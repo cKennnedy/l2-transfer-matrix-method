{
 "cells": [
  {
   "cell_type": "code",
   "execution_count": 24,
   "metadata": {},
   "outputs": [
    {
     "data": {
      "text/plain": [
       "array([[9.81278335e-01, 9.81428127e-01, 9.81577920e-01, ...,\n",
       "        5.96140080e-02, 5.98054740e-02, 5.99969400e-02],\n",
       "       [9.99197601e-01, 9.99218403e-01, 9.99239205e-01, ...,\n",
       "        2.29574490e-02, 2.25851530e-02, 2.22128580e-02],\n",
       "       [9.99410635e-01, 9.99415650e-01, 9.99420664e-01, ...,\n",
       "        8.20514000e-03, 9.22764000e-03, 1.02501400e-02],\n",
       "       ...,\n",
       "       [1.71605860e-02, 1.71605860e-02, 1.71605860e-02, ...,\n",
       "        2.61925180e-02, 2.61925180e-02, 2.61925180e-02],\n",
       "       [1.25577140e-02, 1.24668050e-02, 1.23758960e-02, ...,\n",
       "        3.99266000e-04, 4.46032000e-04, 4.92798000e-04],\n",
       "       [9.92075673e-01, 9.92165596e-01, 9.92255519e-01, ...,\n",
       "        9.80618005e-01, 9.80572983e-01, 9.80527961e-01]])"
      ]
     },
     "execution_count": 24,
     "metadata": {},
     "output_type": "execute_result"
    }
   ],
   "source": [
    "import pandas as pd\n",
    "from sklearn.model_selection import train_test_split\n",
    "import random\n",
    "import matplotlib.pyplot as plt\n",
    "import numpy as np\n",
    "\n",
    "from tmm_ml_models import ForwardTMMModel, ReverseTMMModel\n",
    "data = pd.read_csv(\"Data-version-2.csv\", index_col=\"Wl\")\n",
    "data = data.transpose()\n"
   ]
  },
  {
   "cell_type": "code",
   "execution_count": 3,
   "metadata": {},
   "outputs": [
    {
     "name": "stdout",
     "output_type": "stream",
     "text": [
      "False\n"
     ]
    }
   ],
   "source": [
    "reverse_model = ReverseTMMModel(retrain=True, serialised_model_path=\"reverse_model.mdlsav\")\n",
    "print(reverse_model.is_trained)"
   ]
  },
  {
   "cell_type": "code",
   "execution_count": 4,
   "metadata": {},
   "outputs": [
    {
     "name": "stdout",
     "output_type": "stream",
     "text": [
      "True\n"
     ]
    }
   ],
   "source": [
    "forward_model = ForwardTMMModel(serialised_model_path=\"forward_model.mdlsav\")\n",
    "print(forward_model.is_trained)"
   ]
  },
  {
   "cell_type": "code",
   "execution_count": 25,
   "metadata": {},
   "outputs": [],
   "source": [
    "input_sample = data.iloc[1]"
   ]
  },
  {
   "cell_type": "code",
   "execution_count": null,
   "metadata": {},
   "outputs": [],
   "source": [
    "mat_predict = reverse_model.predict(input_sample)\n",
    "pred = mat_predict[[\"First Layer\", \"Second Layer\"]]\n",
    "print(f\"model predicted: {pred}\")"
   ]
  },
  {
   "cell_type": "code",
   "execution_count": null,
   "metadata": {},
   "outputs": [],
   "source": [
    "predicted_waveform = forward_model.predict(mat_predict)\n",
    "import matplotlib.pyplot as plt\n",
    "\n",
    "x = np.arange(400,751)\n",
    "\n",
    "plt.plot(x, input_sample.values.T, label=\"Reference\")\n",
    "plt.plot(x, predicted_waveform.values.T, label=\"Predicted\")\n",
    "\n",
    "plt.ylim((0,1))\n",
    "plt.xlabel(r\"Wavelength ($nm$)\")\n",
    "plt.ylabel(\"Reflectance\")\n",
    "plt.grid()\n",
    "plt.title(\"Predicted vs Reference reflectance across Visible Spectrum\")\n",
    "\n",
    "plt.legend()"
   ]
  }
 ],
 "metadata": {
  "kernelspec": {
   "display_name": ".venv",
   "language": "python",
   "name": "python3"
  },
  "language_info": {
   "codemirror_mode": {
    "name": "ipython",
    "version": 3
   },
   "file_extension": ".py",
   "mimetype": "text/x-python",
   "name": "python",
   "nbconvert_exporter": "python",
   "pygments_lexer": "ipython3",
   "version": "3.10.6"
  },
  "orig_nbformat": 4
 },
 "nbformat": 4,
 "nbformat_minor": 2
}
