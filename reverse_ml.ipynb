{
 "cells": [
  {
   "cell_type": "code",
   "execution_count": 11,
   "metadata": {},
   "outputs": [],
   "source": [
    "\n",
    "import pandas as pd\n",
    "from sklearn.model_selection import train_test_split\n",
    "from sklearn.preprocessing import LabelEncoder\n",
    "from keras.layers import Input, Dense, Concatenate\n",
    "from keras.models import Model\n",
    "import keras\n",
    "import matplotlib.pyplot as plt\n",
    "import random\n",
    "import numpy as np\n",
    "import tensorflow as tf\n",
    "# Read the CSV file\n",
    "data = pd.read_csv(\"R.csv\")"
   ]
  },
  {
   "cell_type": "code",
   "execution_count": 12,
   "metadata": {},
   "outputs": [
    {
     "name": "stderr",
     "output_type": "stream",
     "text": [
      "/tmp/ipykernel_38466/1402317043.py:11: SettingWithCopyWarning: \n",
      "A value is trying to be set on a copy of a slice from a DataFrame.\n",
      "Try using .loc[row_indexer,col_indexer] = value instead\n",
      "\n",
      "See the caveats in the documentation: https://pandas.pydata.org/pandas-docs/stable/user_guide/indexing.html#returning-a-view-versus-a-copy\n",
      "  output_values[\"First Layer\"] = label_encoder.fit_transform(output_values[\"First Layer\"])\n",
      "/tmp/ipykernel_38466/1402317043.py:12: SettingWithCopyWarning: \n",
      "A value is trying to be set on a copy of a slice from a DataFrame.\n",
      "Try using .loc[row_indexer,col_indexer] = value instead\n",
      "\n",
      "See the caveats in the documentation: https://pandas.pydata.org/pandas-docs/stable/user_guide/indexing.html#returning-a-view-versus-a-copy\n",
      "  output_values[\"Second Layer\"] = label_encoder.transform(output_values[\"Second Layer\"])\n"
     ]
    }
   ],
   "source": [
    "\n",
    "labels = data.copy()\n",
    "\n",
    "feature_headings = [\n",
    "    \"d1\",\"d2\",\"d3\",\"d4\",\"d5\",\"d6\",\"First Layer\",\"Second Layer\"\n",
    "]\n",
    "\n",
    "output_values = labels[feature_headings]\n",
    "input_features = labels[[c for c in labels.columns if c not in feature_headings]]\n",
    "label_encoder = LabelEncoder()\n",
    "\n",
    "output_values[\"First Layer\"] = label_encoder.fit_transform(output_values[\"First Layer\"])\n",
    "output_values[\"Second Layer\"] = label_encoder.transform(output_values[\"Second Layer\"])\n",
    "\n",
    "unique_materials = pd.unique(data[['First Layer', 'Second Layer']].values.ravel())\n",
    "\n",
    "\n",
    "num_materials = len(unique_materials)\n",
    "num_wavelengths = 351\n",
    "\n",
    "input_train, input_test, output_train, output_test = train_test_split(input_features, output_values, test_size=0.2, random_state=42)\n",
    "input_train, input_val, output_train, output_val = train_test_split(input_train, output_train, test_size=0.2, random_state=42)"
   ]
  },
  {
   "cell_type": "code",
   "execution_count": 13,
   "metadata": {},
   "outputs": [],
   "source": [
    "i = Input(num_wavelengths,)\n",
    "\n",
    "dl1 = Dense(num_wavelengths, activation=\"PReLU\", input_shape=(num_wavelengths,))(i)\n",
    "\n",
    "m1dl2 = Dense(256, activation=\"PReLU\")(dl1)\n",
    "m2dl2 = Dense(256, activation=\"PReLU\")(dl1)\n",
    "tdl2 = Dense(256, activation=\"PReLU\")(dl1)\n",
    "\n",
    "concatenated_input = Concatenate()([m1dl2, m2dl2, tdl2])\n",
    "\n",
    "common_layer = Dense(500)(concatenated_input)\n",
    "\n",
    "m1dl3 = Dense(128, activation=\"PReLU\")(common_layer)\n",
    "m2dl3 = Dense(128, activation=\"PReLU\")(common_layer)\n",
    "tdl3 = Dense(128, activation=\"PReLU\")(common_layer)\n",
    "\n",
    "out1 = Dense(num_materials, \"softmax\", name=\"first_layer\")(m1dl3)\n",
    "out2 = Dense(num_materials, \"softmax\", name=\"second_layer\")(m2dl3)\n",
    "\n",
    "material1 = Concatenate()([tdl3,out1])\n",
    "material2 = Concatenate()([tdl3,out2])\n",
    "t1 = Dense(1, \"relu\", name=\"t1\")(material1)\n",
    "t2 = Dense(1, \"relu\", name=\"t2\")(material2)\n",
    "t3 = Dense(1, \"relu\", name=\"t3\")(material1)\n",
    "t4 = Dense(1, \"relu\", name=\"t4\")(material2)\n",
    "t5 = Dense(1, \"relu\", name=\"t5\")(material1)\n",
    "t6 = Dense(1, \"relu\", name=\"t6\")(material2)\n",
    "\n",
    "classifier = Model(inputs=i, outputs=[out1,out2,t1,t2,t3,t4,t5,t6])\n",
    "classifier.compile(\n",
    "    optimizer=\"adam\",\n",
    "    loss={\n",
    "        \"first_layer\": keras.losses.SparseCategoricalCrossentropy(),\n",
    "        \"second_layer\": keras.losses.SparseCategoricalCrossentropy(),\n",
    "        \"t1\": \"mean_squared_error\",\n",
    "        \"t2\": \"mean_squared_error\",\n",
    "        \"t3\": \"mean_squared_error\",\n",
    "        \"t4\": \"mean_squared_error\",\n",
    "        \"t5\": \"mean_squared_error\",\n",
    "        \"t6\": \"mean_squared_error\",\n",
    "    },\n",
    "    metrics={\n",
    "        \"first_layer\": tf.metrics.SparseCategoricalAccuracy(\"acc1\"),\n",
    "        \"second_layer\": tf.metrics.SparseCategoricalAccuracy(\"acc2\"),\n",
    "        \"t1\": \"accuracy\",\n",
    "        \"t2\": \"accuracy\",\n",
    "        \"t3\": \"accuracy\",\n",
    "        \"t4\": \"accuracy\",\n",
    "        \"t5\": \"accuracy\",\n",
    "        \"t6\": \"accuracy\",\n",
    "    }\n",
    ")"
   ]
  },
  {
   "cell_type": "code",
   "execution_count": 14,
   "metadata": {},
   "outputs": [
    {
     "name": "stdout",
     "output_type": "stream",
     "text": [
      "Epoch 1/10\n",
      "600/600 [==============================] - 18s 19ms/step - loss: 4403.2178 - first_layer_loss: 3.5819 - second_layer_loss: 3.6113 - t1_loss: 1522.1458 - t2_loss: 322.5903 - t3_loss: 323.9529 - t4_loss: 327.0513 - t5_loss: 378.1078 - t6_loss: 1522.1771 - first_layer_acc1: 0.0318 - second_layer_acc2: 0.0354 - t1_accuracy: 0.0000e+00 - t2_accuracy: 0.0000e+00 - t3_accuracy: 0.0000e+00 - t4_accuracy: 0.0000e+00 - t5_accuracy: 0.0000e+00 - t6_accuracy: 0.0000e+00 - val_loss: 4153.6860 - val_first_layer_loss: 3.4659 - val_second_layer_loss: 3.4612 - val_t1_loss: 1519.9375 - val_t2_loss: 282.8763 - val_t3_loss: 291.4599 - val_t4_loss: 279.0484 - val_t5_loss: 289.3952 - val_t6_loss: 1484.0416 - val_first_layer_acc1: 0.0325 - val_second_layer_acc2: 0.0452 - val_t1_accuracy: 0.0000e+00 - val_t2_accuracy: 0.0000e+00 - val_t3_accuracy: 0.0000e+00 - val_t4_accuracy: 0.0000e+00 - val_t5_accuracy: 0.0000e+00 - val_t6_accuracy: 0.0000e+00\n",
      "Epoch 2/10\n",
      "600/600 [==============================] - 10s 16ms/step - loss: 4187.4883 - first_layer_loss: 3.4628 - second_layer_loss: 3.4386 - t1_loss: 1522.1459 - t2_loss: 282.4608 - t3_loss: 283.0060 - t4_loss: 284.2315 - t5_loss: 286.5653 - t6_loss: 1522.1771 - first_layer_acc1: 0.0360 - second_layer_acc2: 0.0430 - t1_accuracy: 0.0000e+00 - t2_accuracy: 0.0000e+00 - t3_accuracy: 0.0000e+00 - t4_accuracy: 0.0000e+00 - t5_accuracy: 0.0000e+00 - t6_accuracy: 0.0000e+00 - val_loss: 4146.4585 - val_first_layer_loss: 3.3904 - val_second_layer_loss: 3.4123 - val_t1_loss: 1519.9375 - val_t2_loss: 282.8188 - val_t3_loss: 287.5955 - val_t4_loss: 280.0380 - val_t5_loss: 285.2252 - val_t6_loss: 1484.0416 - val_first_layer_acc1: 0.0504 - val_second_layer_acc2: 0.0421 - val_t1_accuracy: 0.0000e+00 - val_t2_accuracy: 0.0000e+00 - val_t3_accuracy: 0.0000e+00 - val_t4_accuracy: 0.0000e+00 - val_t5_accuracy: 0.0000e+00 - val_t6_accuracy: 0.0000e+00\n",
      "Epoch 3/10\n",
      "600/600 [==============================] - 10s 17ms/step - loss: 4186.7739 - first_layer_loss: 3.3663 - second_layer_loss: 3.3782 - t1_loss: 1522.1459 - t2_loss: 283.0206 - t3_loss: 281.6482 - t4_loss: 284.1432 - t5_loss: 286.8913 - t6_loss: 1522.1771 - first_layer_acc1: 0.0484 - second_layer_acc2: 0.0549 - t1_accuracy: 0.0000e+00 - t2_accuracy: 0.0000e+00 - t3_accuracy: 0.0000e+00 - t4_accuracy: 0.0000e+00 - t5_accuracy: 0.0000e+00 - t6_accuracy: 0.0000e+00 - val_loss: 4131.6738 - val_first_layer_loss: 3.2837 - val_second_layer_loss: 3.3396 - val_t1_loss: 1519.9375 - val_t2_loss: 279.2525 - val_t3_loss: 281.5615 - val_t4_loss: 276.6208 - val_t5_loss: 283.6361 - val_t6_loss: 1484.0416 - val_first_layer_acc1: 0.0498 - val_second_layer_acc2: 0.0596 - val_t1_accuracy: 0.0000e+00 - val_t2_accuracy: 0.0000e+00 - val_t3_accuracy: 0.0000e+00 - val_t4_accuracy: 0.0000e+00 - val_t5_accuracy: 0.0000e+00 - val_t6_accuracy: 0.0000e+00\n",
      "Epoch 4/10\n",
      "600/600 [==============================] - 10s 17ms/step - loss: 3311.2126 - first_layer_loss: 3.2992 - second_layer_loss: 3.3972 - t1_loss: 1522.1459 - t2_loss: 279.6797 - t3_loss: 281.5855 - t4_loss: 283.7221 - t5_loss: 285.3314 - t6_loss: 652.0528 - first_layer_acc1: 0.0495 - second_layer_acc2: 0.0574 - t1_accuracy: 0.0000e+00 - t2_accuracy: 0.0000e+00 - t3_accuracy: 0.0000e+00 - t4_accuracy: 0.0000e+00 - t5_accuracy: 0.0000e+00 - t6_accuracy: 0.0000e+00 - val_loss: 2932.4934 - val_first_layer_loss: 3.2992 - val_second_layer_loss: 3.3314 - val_t1_loss: 1519.9375 - val_t2_loss: 278.9043 - val_t3_loss: 279.6958 - val_t4_loss: 288.0972 - val_t5_loss: 281.2568 - val_t6_loss: 277.9720 - val_first_layer_acc1: 0.0473 - val_second_layer_acc2: 0.0667 - val_t1_accuracy: 0.0000e+00 - val_t2_accuracy: 0.0000e+00 - val_t3_accuracy: 0.0000e+00 - val_t4_accuracy: 0.0000e+00 - val_t5_accuracy: 0.0000e+00 - val_t6_accuracy: 0.0000e+00\n",
      "Epoch 5/10\n",
      "600/600 [==============================] - 10s 17ms/step - loss: 2937.0378 - first_layer_loss: 3.2214 - second_layer_loss: 3.2814 - t1_loss: 1522.1459 - t2_loss: 279.1252 - t3_loss: 279.8334 - t4_loss: 281.9819 - t5_loss: 282.9262 - t6_loss: 284.5207 - first_layer_acc1: 0.0627 - second_layer_acc2: 0.0654 - t1_accuracy: 0.0000e+00 - t2_accuracy: 0.0000e+00 - t3_accuracy: 0.0000e+00 - t4_accuracy: 0.0000e+00 - t5_accuracy: 0.0000e+00 - t6_accuracy: 0.0000e+00 - val_loss: 2922.6611 - val_first_layer_loss: 3.2000 - val_second_layer_loss: 3.2251 - val_t1_loss: 1519.9375 - val_t2_loss: 278.8297 - val_t3_loss: 279.0925 - val_t4_loss: 277.4156 - val_t5_loss: 283.1604 - val_t6_loss: 277.7997 - val_first_layer_acc1: 0.0596 - val_second_layer_acc2: 0.0754 - val_t1_accuracy: 0.0000e+00 - val_t2_accuracy: 0.0000e+00 - val_t3_accuracy: 0.0000e+00 - val_t4_accuracy: 0.0000e+00 - val_t5_accuracy: 0.0000e+00 - val_t6_accuracy: 0.0000e+00\n",
      "Epoch 6/10\n",
      "600/600 [==============================] - 11s 18ms/step - loss: 2932.8586 - first_layer_loss: 3.2312 - second_layer_loss: 3.2675 - t1_loss: 1522.1459 - t2_loss: 278.3832 - t3_loss: 278.9482 - t4_loss: 280.8695 - t5_loss: 282.2483 - t6_loss: 283.7640 - first_layer_acc1: 0.0644 - second_layer_acc2: 0.0668 - t1_accuracy: 0.0000e+00 - t2_accuracy: 0.0000e+00 - t3_accuracy: 0.0000e+00 - t4_accuracy: 0.0000e+00 - t5_accuracy: 0.0000e+00 - t6_accuracy: 0.0000e+00 - val_loss: 2924.7410 - val_first_layer_loss: 3.2833 - val_second_layer_loss: 3.3883 - val_t1_loss: 1519.9375 - val_t2_loss: 277.7018 - val_t3_loss: 281.7281 - val_t4_loss: 277.7665 - val_t5_loss: 283.6406 - val_t6_loss: 277.2946 - val_first_layer_acc1: 0.0487 - val_second_layer_acc2: 0.0613 - val_t1_accuracy: 0.0000e+00 - val_t2_accuracy: 0.0000e+00 - val_t3_accuracy: 0.0000e+00 - val_t4_accuracy: 0.0000e+00 - val_t5_accuracy: 0.0000e+00 - val_t6_accuracy: 0.0000e+00\n",
      "Epoch 7/10\n",
      "600/600 [==============================] - 10s 17ms/step - loss: 2934.0613 - first_layer_loss: 3.1597 - second_layer_loss: 3.2359 - t1_loss: 1522.1459 - t2_loss: 279.1210 - t3_loss: 279.0852 - t4_loss: 281.1989 - t5_loss: 282.9548 - t6_loss: 283.1610 - first_layer_acc1: 0.0767 - second_layer_acc2: 0.0744 - t1_accuracy: 0.0000e+00 - t2_accuracy: 0.0000e+00 - t3_accuracy: 0.0000e+00 - t4_accuracy: 0.0000e+00 - t5_accuracy: 0.0000e+00 - t6_accuracy: 0.0000e+00 - val_loss: 2918.8198 - val_first_layer_loss: 3.1944 - val_second_layer_loss: 3.2439 - val_t1_loss: 1519.9375 - val_t2_loss: 278.5883 - val_t3_loss: 279.6599 - val_t4_loss: 277.3288 - val_t5_loss: 279.8710 - val_t6_loss: 276.9950 - val_first_layer_acc1: 0.0665 - val_second_layer_acc2: 0.0702 - val_t1_accuracy: 0.0000e+00 - val_t2_accuracy: 0.0000e+00 - val_t3_accuracy: 0.0000e+00 - val_t4_accuracy: 0.0000e+00 - val_t5_accuracy: 0.0000e+00 - val_t6_accuracy: 0.0000e+00\n",
      "Epoch 8/10\n",
      "600/600 [==============================] - 11s 18ms/step - loss: 2927.9172 - first_layer_loss: 3.1586 - second_layer_loss: 3.2248 - t1_loss: 1522.1459 - t2_loss: 277.7163 - t3_loss: 277.4178 - t4_loss: 279.9852 - t5_loss: 282.3510 - t6_loss: 281.9186 - first_layer_acc1: 0.0752 - second_layer_acc2: 0.0752 - t1_accuracy: 0.0000e+00 - t2_accuracy: 0.0000e+00 - t3_accuracy: 0.0000e+00 - t4_accuracy: 0.0000e+00 - t5_accuracy: 0.0000e+00 - t6_accuracy: 0.0000e+00 - val_loss: 2924.0132 - val_first_layer_loss: 3.1086 - val_second_layer_loss: 3.2055 - val_t1_loss: 1519.9375 - val_t2_loss: 278.7675 - val_t3_loss: 281.7480 - val_t4_loss: 280.4566 - val_t5_loss: 280.7022 - val_t6_loss: 276.0873 - val_first_layer_acc1: 0.1096 - val_second_layer_acc2: 0.0715 - val_t1_accuracy: 0.0000e+00 - val_t2_accuracy: 0.0000e+00 - val_t3_accuracy: 0.0000e+00 - val_t4_accuracy: 0.0000e+00 - val_t5_accuracy: 0.0000e+00 - val_t6_accuracy: 0.0000e+00\n",
      "Epoch 9/10\n",
      "600/600 [==============================] - 11s 19ms/step - loss: 2926.8779 - first_layer_loss: 3.1314 - second_layer_loss: 3.2070 - t1_loss: 1522.1459 - t2_loss: 276.6483 - t3_loss: 277.8433 - t4_loss: 280.4042 - t5_loss: 281.9083 - t6_loss: 281.5880 - first_layer_acc1: 0.0881 - second_layer_acc2: 0.0814 - t1_accuracy: 0.0000e+00 - t2_accuracy: 0.0000e+00 - t3_accuracy: 0.0000e+00 - t4_accuracy: 0.0000e+00 - t5_accuracy: 0.0000e+00 - t6_accuracy: 0.0000e+00 - val_loss: 2924.5027 - val_first_layer_loss: 3.0765 - val_second_layer_loss: 3.1817 - val_t1_loss: 1519.9375 - val_t2_loss: 275.7315 - val_t3_loss: 281.7393 - val_t4_loss: 273.6563 - val_t5_loss: 285.0643 - val_t6_loss: 282.1152 - val_first_layer_acc1: 0.0790 - val_second_layer_acc2: 0.0858 - val_t1_accuracy: 0.0000e+00 - val_t2_accuracy: 0.0000e+00 - val_t3_accuracy: 0.0000e+00 - val_t4_accuracy: 0.0000e+00 - val_t5_accuracy: 0.0000e+00 - val_t6_accuracy: 0.0000e+00\n",
      "Epoch 10/10\n",
      "600/600 [==============================] - 13s 21ms/step - loss: 2925.1301 - first_layer_loss: 3.0810 - second_layer_loss: 3.1918 - t1_loss: 1522.1459 - t2_loss: 276.8487 - t3_loss: 277.1881 - t4_loss: 279.3399 - t5_loss: 282.0331 - t6_loss: 281.3015 - first_layer_acc1: 0.0981 - second_layer_acc2: 0.0848 - t1_accuracy: 0.0000e+00 - t2_accuracy: 0.0000e+00 - t3_accuracy: 0.0000e+00 - t4_accuracy: 0.0000e+00 - t5_accuracy: 0.0000e+00 - t6_accuracy: 0.0000e+00 - val_loss: 2918.1086 - val_first_layer_loss: 3.2370 - val_second_layer_loss: 3.2331 - val_t1_loss: 1519.9375 - val_t2_loss: 278.3047 - val_t3_loss: 277.5003 - val_t4_loss: 273.0239 - val_t5_loss: 284.0123 - val_t6_loss: 278.8609 - val_first_layer_acc1: 0.0652 - val_second_layer_acc2: 0.0727 - val_t1_accuracy: 0.0000e+00 - val_t2_accuracy: 0.0000e+00 - val_t3_accuracy: 0.0000e+00 - val_t4_accuracy: 0.0000e+00 - val_t5_accuracy: 0.0000e+00 - val_t6_accuracy: 0.0000e+00\n"
     ]
    },
    {
     "data": {
      "text/plain": [
       "<keras.callbacks.History at 0x7f740c5b0a90>"
      ]
     },
     "execution_count": 14,
     "metadata": {},
     "output_type": "execute_result"
    }
   ],
   "source": [
    "classifier.fit(\n",
    "    input_train,\n",
    "    {\n",
    "        \"first_layer\": output_train[\"First Layer\"],\n",
    "        \"second_layer\": output_train[\"Second Layer\"],\n",
    "        \"t1\": output_train[\"d1\"],\n",
    "        \"t2\": output_train[\"d2\"],\n",
    "        \"t3\": output_train[\"d3\"],\n",
    "        \"t4\": output_train[\"d4\"],\n",
    "        \"t5\": output_train[\"d5\"],\n",
    "        \"t6\": output_train[\"d6\"],\n",
    "    },\n",
    "    epochs=10,\n",
    "    validation_data=(\n",
    "        input_val,\n",
    "        {\n",
    "            \"first_layer\": output_val[\"First Layer\"],\n",
    "            \"second_layer\": output_val[\"Second Layer\"],\n",
    "            \"t1\": output_val[\"d1\"],\n",
    "            \"t2\": output_val[\"d2\"],\n",
    "            \"t3\": output_val[\"d3\"],\n",
    "            \"t4\": output_val[\"d4\"],\n",
    "            \"t5\": output_val[\"d5\"],\n",
    "            \"t6\": output_val[\"d6\"],\n",
    "        }\n",
    "    ),\n",
    "    batch_size=32\n",
    ")"
   ]
  },
  {
   "cell_type": "code",
   "execution_count": 15,
   "metadata": {},
   "outputs": [
    {
     "name": "stdout",
     "output_type": "stream",
     "text": [
      "1/1 [==============================] - 0s 258ms/step\n",
      "model predicted: ['Mn' 'Mg']\n",
      "actual combination: ['Zn' 'Pt']\n",
      "predicted_thicknesses: [0.0, 33.769066, 34.762447, 34.48763, 32.730476, 32.837414]\n",
      "actual thicknesses: [20 20 50 60 20 40]\n"
     ]
    },
    {
     "name": "stderr",
     "output_type": "stream",
     "text": [
      "/root/repos/l2-transfer-matrix-method/.venv/lib/python3.10/site-packages/sklearn/preprocessing/_label.py:155: DataConversionWarning: A column-vector y was passed when a 1d array was expected. Please change the shape of y to (n_samples, ), for example using ravel().\n",
      "  y = column_or_1d(y, warn=True)\n"
     ]
    }
   ],
   "source": [
    "index = random.randint(0, len(input_test) - 1)\n",
    "input_sample = input_test.iloc[[index]]\n",
    "output_sample = output_test.iloc[[index]]\n",
    "mat_predict = classifier.predict([input_sample])\n",
    "pred = label_encoder.inverse_transform([np.argmax(mat_predict[0]), np.argmax(mat_predict[1])])\n",
    "act = label_encoder.inverse_transform([output_sample[\"First Layer\"], output_sample[\"Second Layer\"]])\n",
    "\n",
    "print(f\"model predicted: {pred}\")\n",
    "print(f\"actual combination: {act}\")\n",
    "\n",
    "print(f\"predicted_thicknesses: {[elem[0][0] for elem in mat_predict[2:]]}\")\n",
    "print(f\"actual thicknesses: {output_sample.values[0][:6]}\")"
   ]
  },
  {
   "cell_type": "code",
   "execution_count": 58,
   "metadata": {},
   "outputs": [
    {
     "name": "stdout",
     "output_type": "stream",
     "text": [
      "1/1 [==============================] - 0s 23ms/step\n",
      "1/1 [==============================] - 0s 167ms/step\n"
     ]
    },
    {
     "data": {
      "image/png": "[encoded data removed]",
      "text/plain": [
       "<Figure size 640x480 with 1 Axes>"
      ]
     },
     "metadata": {},
     "output_type": "display_data"
    }
   ],
   "source": [
    "from tensorflow.keras.models import load_model\n",
    "import pickle\n",
    "model = load_model('savedmodel.h5')\n",
    "#model.summary()\n",
    "with open('encodersave', 'rb') as file:\n",
    "    label_encoder = pickle.load(file)\n",
    "# Select a random index from the test set\n",
    "index = random.randint(0, len(input_test) - 1)\n",
    "\n",
    "\n",
    "# Get the corresponding input and output values\n",
    "input_sample = input_test.iloc[[index]]#target waveform\n",
    "spec=classifier.predict(input_sample)#composition\n",
    "thickness=np.array([elem[0][0] for elem in spec[2:]])#gets the thicknesses of composition\n",
    "pred = label_encoder.inverse_transform([np.argmax(spec[0]), np.argmax(spec[1])])#gets names of materials\n",
    "pred=label_encoder.transform(pred)#encodes using the forward model encoder \n",
    "combined =np.concatenate((thickness,pred))#puts in 1 array\n",
    "spec_formated = pd.DataFrame([combined])#formats\n",
    "\n",
    "# Make a prediction for the selected sample\n",
    "forward_prediction = model.predict(spec_formated)\n",
    "\n",
    "\n",
    "fig,ax = plt.subplots()\n",
    "x = np.arange(400,751)\n",
    "input_sample=np.squeeze(input_sample)\n",
    "forward_prediction=np.squeeze(forward_prediction)\n",
    "ax.plot(x, input_sample, label='Target')\n",
    "ax.plot(x, forward_prediction, label='Pred')\n",
    "ax.set_ylim(0,1)\n",
    "ax.legend()\n",
    "plt.show()"
   ]
  },
  {
   "cell_type": "code",
   "execution_count": 22,
   "metadata": {},
   "outputs": [
    {
     "data": {
      "text/plain": [
       "[array([[0.00111848, 0.05180975, 0.01299311, 0.05956664, 0.02126317,\n",
       "         0.0720773 , 0.01217214, 0.01741252, 0.06764165, 0.00279529,\n",
       "         0.00065958, 0.05910622, 0.04410082, 0.00067866, 0.00066747,\n",
       "         0.01869995, 0.01604226, 0.01751994, 0.06050008, 0.05631964,\n",
       "         0.06952444, 0.05563816, 0.07124   , 0.00141588, 0.02698506,\n",
       "         0.06793177, 0.00355967, 0.021431  , 0.01728657, 0.00254265,\n",
       "         0.04935848, 0.01994162]], dtype=float32),\n",
       " array([[0.00364724, 0.05502025, 0.01484894, 0.06045962, 0.02973243,\n",
       "         0.06050244, 0.02198785, 0.02816714, 0.05173533, 0.00769714,\n",
       "         0.00322094, 0.06071056, 0.047117  , 0.00242046, 0.00338446,\n",
       "         0.01428678, 0.01791894, 0.01961598, 0.05921105, 0.0538656 ,\n",
       "         0.05304528, 0.05307585, 0.05475212, 0.00457461, 0.03085285,\n",
       "         0.05745526, 0.01097198, 0.02399942, 0.01947174, 0.004141  ,\n",
       "         0.04908688, 0.02302295]], dtype=float32),\n",
       " array([[0.]], dtype=float32),\n",
       " array([[29.646677]], dtype=float32),\n",
       " array([[30.606255]], dtype=float32),\n",
       " array([[30.11723]], dtype=float32),\n",
       " array([[29.37213]], dtype=float32),\n",
       " array([[29.039797]], dtype=float32)]"
      ]
     },
     "execution_count": 22,
     "metadata": {},
     "output_type": "execute_result"
    }
   ],
   "source": [
    "spec"
   ]
  },
  {
   "cell_type": "code",
   "execution_count": 23,
   "metadata": {},
   "outputs": [
    {
     "data": {
      "text/plain": [
       "array([0.0, 33.769065856933594, 34.762447357177734, 34.48762893676758,\n",
       "       32.73047637939453, 32.8374137878418, 'Mn', 'Mg'], dtype=object)"
      ]
     },
     "execution_count": 23,
     "metadata": {},
     "output_type": "execute_result"
    }
   ],
   "source": [
    "combined"
   ]
  }
 ],
 "metadata": {
  "kernelspec": {
   "display_name": ".venv",
   "language": "python",
   "name": "python3"
  },
  "language_info": {
   "codemirror_mode": {
    "name": "ipython",
    "version": 3
   },
   "file_extension": ".py",
   "mimetype": "text/x-python",
   "name": "python",
   "nbconvert_exporter": "python",
   "pygments_lexer": "ipython3",
   "version": "3.10.6"
  },
  "orig_nbformat": 4
 },
 "nbformat": 4,
 "nbformat_minor": 2
}
