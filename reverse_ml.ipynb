{
 "cells": [
  {
   "cell_type": "code",
   "execution_count": 3,
   "metadata": {},
   "outputs": [
    {
     "name": "stderr",
     "output_type": "stream",
     "text": [
      "2023-06-20 14:56:37.108562: I tensorflow/core/platform/cpu_feature_guard.cc:182] This TensorFlow binary is optimized to use available CPU instructions in performance-critical operations.\n",
      "To enable the following instructions: AVX2 AVX_VNNI FMA, in other operations, rebuild TensorFlow with the appropriate compiler flags.\n",
      "2023-06-20 14:56:39.725289: W tensorflow/compiler/tf2tensorrt/utils/py_utils.cc:38] TF-TRT Warning: Could not find TensorRT\n"
     ]
    }
   ],
   "source": [
    "import pandas as pd\n",
    "from sklearn.model_selection import train_test_split\n",
    "import random\n",
    "import matplotlib.pyplot as plt\n",
    "import numpy as np\n",
    "\n",
    "from tmm_ml_models import ForwardTMMModel, ReverseTMMModel\n",
    "data = pd.read_csv(\"R.csv\")"
   ]
  },
  {
   "cell_type": "code",
   "execution_count": 4,
   "metadata": {},
   "outputs": [],
   "source": [
    "\n",
    "labels = data.copy()\n",
    "\n",
    "feature_headings = [\n",
    "    \"d1\",\"d2\",\"d3\",\"d4\",\"d5\",\"d6\",\"First Layer\",\"Second Layer\"\n",
    "]\n",
    "\n",
    "output_values = labels[feature_headings]\n",
    "input_features = labels[[c for c in labels.columns if c not in feature_headings]]\n",
    "\n",
    "input_train, input_test, output_train, output_test = train_test_split(input_features, output_values, test_size=0.2, random_state=42)"
   ]
  },
  {
   "cell_type": "code",
   "execution_count": 6,
   "metadata": {
    "scrolled": true
   },
   "outputs": [
    {
     "name": "stdout",
     "output_type": "stream",
     "text": [
      "Epoch 1/10\n",
      "675/675 [==============================] - 14s 17ms/step - loss: 13.3497 - first_layer_loss: 2.9217 - second_layer_loss: 3.1721 - t1_loss: 725.5873 - first_layer_acc1: 0.1566 - second_layer_acc2: 0.1088 - t1_accuracy: 0.1651 - val_loss: 12.7312 - val_first_layer_loss: 2.6128 - val_second_layer_loss: 3.0494 - val_t1_loss: 706.8932 - val_first_layer_acc1: 0.2250 - val_second_layer_acc2: 0.1471 - val_t1_accuracy: 0.1292\n",
      "Epoch 2/10\n",
      "675/675 [==============================] - 11s 17ms/step - loss: 12.4067 - first_layer_loss: 2.4741 - second_layer_loss: 2.9536 - t1_loss: 697.9067 - first_layer_acc1: 0.2568 - second_layer_acc2: 0.1649 - t1_accuracy: 0.1794 - val_loss: 12.3047 - val_first_layer_loss: 2.4258 - val_second_layer_loss: 2.8787 - val_t1_loss: 700.0237 - val_first_layer_acc1: 0.2554 - val_second_layer_acc2: 0.1867 - val_t1_accuracy: 0.1854\n",
      "Epoch 3/10\n",
      "675/675 [==============================] - 9s 13ms/step - loss: 12.1439 - first_layer_loss: 2.3282 - second_layer_loss: 2.8662 - t1_loss: 694.9499 - first_layer_acc1: 0.2973 - second_layer_acc2: 0.1848 - t1_accuracy: 0.2033 - val_loss: 12.0512 - val_first_layer_loss: 2.2831 - val_second_layer_loss: 2.8191 - val_t1_loss: 694.9004 - val_first_layer_acc1: 0.2958 - val_second_layer_acc2: 0.1996 - val_t1_accuracy: 0.1967\n",
      "Epoch 4/10\n",
      "675/675 [==============================] - 9s 13ms/step - loss: 11.9959 - first_layer_loss: 2.2554 - second_layer_loss: 2.8093 - t1_loss: 693.1193 - first_layer_acc1: 0.3076 - second_layer_acc2: 0.1987 - t1_accuracy: 0.2109 - val_loss: 11.9281 - val_first_layer_loss: 2.2293 - val_second_layer_loss: 2.7898 - val_t1_loss: 690.8978 - val_first_layer_acc1: 0.3108 - val_second_layer_acc2: 0.2046 - val_t1_accuracy: 0.1838\n",
      "Epoch 5/10\n",
      "675/675 [==============================] - 8s 13ms/step - loss: 9.8186 - first_layer_loss: 2.1952 - second_layer_loss: 2.7651 - t1_loss: 485.8293 - first_layer_acc1: 0.3194 - second_layer_acc2: 0.2097 - t1_accuracy: 0.2305 - val_loss: 9.8855 - val_first_layer_loss: 2.2634 - val_second_layer_loss: 2.7605 - val_t1_loss: 486.1594 - val_first_layer_acc1: 0.3058 - val_second_layer_acc2: 0.2092 - val_t1_accuracy: 0.2837\n",
      "Epoch 6/10\n",
      "675/675 [==============================] - 10s 14ms/step - loss: 9.6852 - first_layer_loss: 2.1355 - second_layer_loss: 2.7266 - t1_loss: 482.3194 - first_layer_acc1: 0.3358 - second_layer_acc2: 0.2160 - t1_accuracy: 0.2518 - val_loss: 9.6157 - val_first_layer_loss: 2.1144 - val_second_layer_loss: 2.6950 - val_t1_loss: 480.6363 - val_first_layer_acc1: 0.3458 - val_second_layer_acc2: 0.2304 - val_t1_accuracy: 0.2313\n",
      "Epoch 7/10\n",
      "675/675 [==============================] - 9s 13ms/step - loss: 9.5987 - first_layer_loss: 2.1028 - second_layer_loss: 2.6901 - t1_loss: 480.5829 - first_layer_acc1: 0.3370 - second_layer_acc2: 0.2222 - t1_accuracy: 0.2583 - val_loss: 9.5956 - val_first_layer_loss: 2.0991 - val_second_layer_loss: 2.6778 - val_t1_loss: 481.8663 - val_first_layer_acc1: 0.3400 - val_second_layer_acc2: 0.2329 - val_t1_accuracy: 0.2908\n",
      "Epoch 8/10\n",
      "675/675 [==============================] - 8s 12ms/step - loss: 9.5234 - first_layer_loss: 2.0641 - second_layer_loss: 2.6674 - t1_loss: 479.1959 - first_layer_acc1: 0.3465 - second_layer_acc2: 0.2303 - t1_accuracy: 0.2650 - val_loss: 9.5793 - val_first_layer_loss: 2.1303 - val_second_layer_loss: 2.6727 - val_t1_loss: 477.6364 - val_first_layer_acc1: 0.3225 - val_second_layer_acc2: 0.2275 - val_t1_accuracy: 0.2721\n",
      "Epoch 9/10\n",
      "675/675 [==============================] - 8s 12ms/step - loss: 9.4487 - first_layer_loss: 2.0356 - second_layer_loss: 2.6357 - t1_loss: 477.7365 - first_layer_acc1: 0.3558 - second_layer_acc2: 0.2322 - t1_accuracy: 0.2716 - val_loss: 9.4448 - val_first_layer_loss: 2.0600 - val_second_layer_loss: 2.6282 - val_t1_loss: 475.6640 - val_first_layer_acc1: 0.3429 - val_second_layer_acc2: 0.2362 - val_t1_accuracy: 0.2971\n",
      "Epoch 10/10\n",
      "675/675 [==============================] - 9s 14ms/step - loss: 9.3922 - first_layer_loss: 2.0119 - second_layer_loss: 2.6146 - t1_loss: 476.5686 - first_layer_acc1: 0.3571 - second_layer_acc2: 0.2375 - t1_accuracy: 0.2706 - val_loss: 9.3886 - val_first_layer_loss: 2.0311 - val_second_layer_loss: 2.6058 - val_t1_loss: 475.1693 - val_first_layer_acc1: 0.3554 - val_second_layer_acc2: 0.2400 - val_t1_accuracy: 0.3083\n"
     ]
    }
   ],
   "source": [
    "reverse_model = ReverseTMMModel(retrain=True, serialised_model_path=\"reverse_model.mdlsav\")\n",
    "\n",
    "# if not reverse_model.is_trained:\n",
    "history = reverse_model.train(input_train, output_train, epochs=10)"
   ]
  },
  {
   "cell_type": "code",
   "execution_count": null,
   "metadata": {},
   "outputs": [
    {
     "name": "stderr",
     "output_type": "stream",
     "text": [
      "WARNING:absl:Found untraced functions such as _update_step_xla while saving (showing 1 of 1). These functions will not be directly callable after loading.\n"
     ]
    },
    {
     "name": "stdout",
     "output_type": "stream",
     "text": [
      "INFO:tensorflow:Assets written to: reverse_model.mdlsav/assets\n"
     ]
    },
    {
     "name": "stderr",
     "output_type": "stream",
     "text": [
      "INFO:tensorflow:Assets written to: reverse_model.mdlsav/assets\n"
     ]
    }
   ],
   "source": [
    "reverse_model.save(\"reverse_model.mdlsav\")"
   ]
  },
  {
   "cell_type": "code",
   "execution_count": 7,
   "metadata": {},
   "outputs": [],
   "source": [
    "forward_model = ForwardTMMModel(serialised_model_path=\"forward_model.mdlsav\")\n",
    "\n",
    "if not forward_model.is_trained:\n",
    "    forward_model.train(output_train, input_train)"
   ]
  },
  {
   "cell_type": "code",
   "execution_count": null,
   "metadata": {},
   "outputs": [
    {
     "name": "stderr",
     "output_type": "stream",
     "text": [
      "2023-06-20 14:52:48.458012: I tensorflow/core/common_runtime/executor.cc:1197] [/device:CPU:0] (DEBUG INFO) Executor start aborting (this does not indicate an error and you can ignore this message): INVALID_ARGUMENT: You must feed a value for placeholder tensor 'input_3' with dtype string and shape [?,2]\n",
      "\t [[{{node input_3}}]]\n",
      "2023-06-20 14:52:48.597577: I tensorflow/core/common_runtime/executor.cc:1197] [/device:CPU:0] (DEBUG INFO) Executor start aborting (this does not indicate an error and you can ignore this message): INVALID_ARGUMENT: You must feed a value for placeholder tensor 'input_3' with dtype string and shape [?,2]\n",
      "\t [[{{node input_3}}]]\n",
      "2023-06-20 14:52:48.723241: I tensorflow/core/common_runtime/executor.cc:1197] [/device:CPU:0] (DEBUG INFO) Executor start aborting (this does not indicate an error and you can ignore this message): INVALID_ARGUMENT: You must feed a value for placeholder tensor 'inputs_1' with dtype string and shape [?,2]\n",
      "\t [[{{node inputs_1}}]]\n",
      "2023-06-20 14:52:48.770257: I tensorflow/core/common_runtime/executor.cc:1197] [/device:CPU:0] (DEBUG INFO) Executor start aborting (this does not indicate an error and you can ignore this message): INVALID_ARGUMENT: You must feed a value for placeholder tensor 'inputs_1' with dtype string and shape [?,2]\n",
      "\t [[{{node inputs_1}}]]\n",
      "2023-06-20 14:52:48.902341: I tensorflow/core/common_runtime/executor.cc:1197] [/device:CPU:0] (DEBUG INFO) Executor start aborting (this does not indicate an error and you can ignore this message): INVALID_ARGUMENT: You must feed a value for placeholder tensor 'input_3' with dtype string and shape [?,2]\n",
      "\t [[{{node input_3}}]]\n",
      "2023-06-20 14:52:49.009444: I tensorflow/core/common_runtime/executor.cc:1197] [/device:CPU:0] (DEBUG INFO) Executor start aborting (this does not indicate an error and you can ignore this message): INVALID_ARGUMENT: You must feed a value for placeholder tensor 'inputs_1' with dtype string and shape [?,2]\n",
      "\t [[{{node inputs_1}}]]\n",
      "2023-06-20 14:52:49.038911: I tensorflow/core/common_runtime/executor.cc:1197] [/device:CPU:0] (DEBUG INFO) Executor start aborting (this does not indicate an error and you can ignore this message): INVALID_ARGUMENT: You must feed a value for placeholder tensor 'inputs_1' with dtype string and shape [?,2]\n",
      "\t [[{{node inputs_1}}]]\n",
      "WARNING:absl:Found untraced functions such as _update_step_xla while saving (showing 1 of 1). These functions will not be directly callable after loading.\n",
      "2023-06-20 14:52:50.287783: I tensorflow/core/common_runtime/executor.cc:1197] [/device:CPU:0] (DEBUG INFO) Executor start aborting (this does not indicate an error and you can ignore this message): INVALID_ARGUMENT: You must feed a value for placeholder tensor 'serving_default_input_3' with dtype string and shape [?,2]\n",
      "\t [[{{node serving_default_input_3}}]]\n"
     ]
    },
    {
     "name": "stdout",
     "output_type": "stream",
     "text": [
      "INFO:tensorflow:Assets written to: forward_model.mdlsav/assets\n"
     ]
    },
    {
     "name": "stderr",
     "output_type": "stream",
     "text": [
      "INFO:tensorflow:Assets written to: forward_model.mdlsav/assets\n"
     ]
    }
   ],
   "source": [
    "forward_model.save(\"forward_model.mdlsav\")"
   ]
  },
  {
   "cell_type": "code",
   "execution_count": 11,
   "metadata": {},
   "outputs": [
    {
     "data": {
      "text/html": [
       "<div>\n",
       "<style scoped>\n",
       "    .dataframe tbody tr th:only-of-type {\n",
       "        vertical-align: middle;\n",
       "    }\n",
       "\n",
       "    .dataframe tbody tr th {\n",
       "        vertical-align: top;\n",
       "    }\n",
       "\n",
       "    .dataframe thead th {\n",
       "        text-align: right;\n",
       "    }\n",
       "</style>\n",
       "<table border=\"1\" class=\"dataframe\">\n",
       "  <thead>\n",
       "    <tr style=\"text-align: right;\">\n",
       "      <th></th>\n",
       "      <th>W400</th>\n",
       "      <th>W401</th>\n",
       "      <th>W402</th>\n",
       "      <th>W403</th>\n",
       "      <th>W404</th>\n",
       "      <th>W405</th>\n",
       "      <th>W406</th>\n",
       "      <th>W407</th>\n",
       "      <th>W408</th>\n",
       "      <th>W409</th>\n",
       "      <th>...</th>\n",
       "      <th>W741</th>\n",
       "      <th>W742</th>\n",
       "      <th>W743</th>\n",
       "      <th>W744</th>\n",
       "      <th>W745</th>\n",
       "      <th>W746</th>\n",
       "      <th>W747</th>\n",
       "      <th>W748</th>\n",
       "      <th>W749</th>\n",
       "      <th>W750</th>\n",
       "    </tr>\n",
       "  </thead>\n",
       "  <tbody>\n",
       "    <tr>\n",
       "      <th>18337</th>\n",
       "      <td>0.938671</td>\n",
       "      <td>0.938598</td>\n",
       "      <td>0.938492</td>\n",
       "      <td>0.938352</td>\n",
       "      <td>0.938178</td>\n",
       "      <td>0.937968</td>\n",
       "      <td>0.937719</td>\n",
       "      <td>0.937429</td>\n",
       "      <td>0.937096</td>\n",
       "      <td>0.936722</td>\n",
       "      <td>...</td>\n",
       "      <td>0.818361</td>\n",
       "      <td>0.818712</td>\n",
       "      <td>0.819064</td>\n",
       "      <td>0.819415</td>\n",
       "      <td>0.819768</td>\n",
       "      <td>0.820122</td>\n",
       "      <td>0.820479</td>\n",
       "      <td>0.820837</td>\n",
       "      <td>0.821197</td>\n",
       "      <td>0.821559</td>\n",
       "    </tr>\n",
       "  </tbody>\n",
       "</table>\n",
       "<p>1 rows × 351 columns</p>\n",
       "</div>"
      ],
      "text/plain": [
       "           W400      W401      W402      W403      W404      W405      W406  \\\n",
       "18337  0.938671  0.938598  0.938492  0.938352  0.938178  0.937968  0.937719   \n",
       "\n",
       "           W407      W408      W409  ...      W741      W742      W743  \\\n",
       "18337  0.937429  0.937096  0.936722  ...  0.818361  0.818712  0.819064   \n",
       "\n",
       "           W744      W745      W746      W747      W748      W749      W750  \n",
       "18337  0.819415  0.819768  0.820122  0.820479  0.820837  0.821197  0.821559  \n",
       "\n",
       "[1 rows x 351 columns]"
      ]
     },
     "execution_count": 11,
     "metadata": {},
     "output_type": "execute_result"
    }
   ],
   "source": [
    "index = random.randint(0, len(input_test) - 1)\n",
    "input_sample = input_test.iloc[[index]]\n",
    "\n",
    "input_sample"
   ]
  },
  {
   "cell_type": "code",
   "execution_count": 12,
   "metadata": {},
   "outputs": [
    {
     "name": "stdout",
     "output_type": "stream",
     "text": [
      "1/1 [==============================] - 0s 31ms/step\n",
      "model predicted:       First Layer Second Layer\n",
      "18337        ZrO2           Mo\n",
      "actual combination:       First Layer Second Layer\n",
      "18337        ZrO2           Mn\n"
     ]
    },
    {
     "data": {
      "text/html": [
       "<div>\n",
       "<style scoped>\n",
       "    .dataframe tbody tr th:only-of-type {\n",
       "        vertical-align: middle;\n",
       "    }\n",
       "\n",
       "    .dataframe tbody tr th {\n",
       "        vertical-align: top;\n",
       "    }\n",
       "\n",
       "    .dataframe thead th {\n",
       "        text-align: right;\n",
       "    }\n",
       "</style>\n",
       "<table border=\"1\" class=\"dataframe\">\n",
       "  <thead>\n",
       "    <tr style=\"text-align: right;\">\n",
       "      <th></th>\n",
       "      <th>d1</th>\n",
       "      <th>d2</th>\n",
       "      <th>d3</th>\n",
       "      <th>d4</th>\n",
       "      <th>d5</th>\n",
       "      <th>d6</th>\n",
       "      <th>First Layer</th>\n",
       "      <th>Second Layer</th>\n",
       "    </tr>\n",
       "  </thead>\n",
       "  <tbody>\n",
       "    <tr>\n",
       "      <th>18337</th>\n",
       "      <td>61.677967</td>\n",
       "      <td>39.381886</td>\n",
       "      <td>0.0</td>\n",
       "      <td>38.33123</td>\n",
       "      <td>34.808586</td>\n",
       "      <td>37.682503</td>\n",
       "      <td>ZrO2</td>\n",
       "      <td>Mo</td>\n",
       "    </tr>\n",
       "  </tbody>\n",
       "</table>\n",
       "</div>"
      ],
      "text/plain": [
       "              d1         d2   d3        d4         d5         d6 First Layer  \\\n",
       "18337  61.677967  39.381886  0.0  38.33123  34.808586  37.682503        ZrO2   \n",
       "\n",
       "      Second Layer  \n",
       "18337           Mo  "
      ]
     },
     "execution_count": 12,
     "metadata": {},
     "output_type": "execute_result"
    }
   ],
   "source": [
    "\n",
    "output_sample = output_test.iloc[[index]]\n",
    "mat_predict = reverse_model.predict(input_sample)\n",
    "pred = mat_predict[[\"First Layer\", \"Second Layer\"]]\n",
    "act = output_sample[[\"First Layer\", \"Second Layer\"]]\n",
    "\n",
    "\n",
    "print(f\"model predicted: {pred}\")\n",
    "print(f\"actual combination: {act}\")\n",
    "\n",
    "mat_predict"
   ]
  },
  {
   "cell_type": "code",
   "execution_count": 13,
   "metadata": {},
   "outputs": [
    {
     "name": "stdout",
     "output_type": "stream",
     "text": [
      "1/1 [==============================] - 0s 22ms/step\n"
     ]
    }
   ],
   "source": [
    "reference_waveform = input_sample\n",
    "predicted_waveform = forward_model.predict(mat_predict)"
   ]
  },
  {
   "cell_type": "code",
   "execution_count": 14,
   "metadata": {},
   "outputs": [
    {
     "data": {
      "text/plain": [
       "<matplotlib.legend.Legend at 0x7f774c1dca00>"
      ]
     },
     "execution_count": 14,
     "metadata": {},
     "output_type": "execute_result"
    },
    {
     "data": {
      "image/png": "[encoded data removed]",
      "text/plain": [
       "<Figure size 640x480 with 1 Axes>"
      ]
     },
     "metadata": {},
     "output_type": "display_data"
    }
   ],
   "source": [
    "import matplotlib.pyplot as plt\n",
    "\n",
    "x = np.arange(400,751)\n",
    "\n",
    "plt.plot(x, reference_waveform.values.T, label=\"Reference\")\n",
    "plt.plot(x, predicted_waveform.values.T, label=\"Predicted\")\n",
    "\n",
    "plt.ylim((0,1))\n",
    "plt.xlabel(r\"Wavelength ($nm$)\")\n",
    "plt.ylabel(\"Reflectance\")\n",
    "plt.grid()\n",
    "plt.title(\"Predicted vs Reference reflectance across Visible Spectrum\")\n",
    "\n",
    "plt.legend()"
   ]
  },
  {
   "cell_type": "code",
   "execution_count": null,
   "metadata": {},
   "outputs": [],
   "source": []
  }
 ],
 "metadata": {
  "kernelspec": {
   "display_name": "Python 3 (ipykernel)",
   "language": "python",
   "name": "python3"
  },
  "language_info": {
   "codemirror_mode": {
    "name": "ipython",
    "version": 3
   },
   "file_extension": ".py",
   "mimetype": "text/x-python",
   "name": "python",
   "nbconvert_exporter": "python",
   "pygments_lexer": "ipython3",
   "version": "3.10.6"
  }
 },
 "nbformat": 4,
 "nbformat_minor": 2
}
