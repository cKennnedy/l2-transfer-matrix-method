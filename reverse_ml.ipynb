{
 "cells": [
  {
   "cell_type": "code",
   "execution_count": 1,
   "metadata": {},
   "outputs": [
    {
     "name": "stderr",
     "output_type": "stream",
     "text": [
      "2023-06-20 14:00:06.442689: I tensorflow/tsl/cuda/cudart_stub.cc:28] Could not find cuda drivers on your machine, GPU will not be used.\n",
      "2023-06-20 14:00:06.481586: I tensorflow/tsl/cuda/cudart_stub.cc:28] Could not find cuda drivers on your machine, GPU will not be used.\n",
      "2023-06-20 14:00:06.482379: I tensorflow/core/platform/cpu_feature_guard.cc:182] This TensorFlow binary is optimized to use available CPU instructions in performance-critical operations.\n",
      "To enable the following instructions: AVX2 FMA, in other operations, rebuild TensorFlow with the appropriate compiler flags.\n",
      "2023-06-20 14:00:07.041017: W tensorflow/compiler/tf2tensorrt/utils/py_utils.cc:38] TF-TRT Warning: Could not find TensorRT\n"
     ]
    }
   ],
   "source": [
    "import pandas as pd\n",
    "from sklearn.model_selection import train_test_split\n",
    "import random\n",
    "import matplotlib.pyplot as plt\n",
    "import numpy as np\n",
    "\n",
    "from tmm_ml_models import ForwardTMMModel, ReverseTMMModel\n",
    "data = pd.read_csv(\"R.csv\")"
   ]
  },
  {
   "cell_type": "code",
   "execution_count": 2,
   "metadata": {},
   "outputs": [],
   "source": [
    "\n",
    "labels = data.copy()\n",
    "\n",
    "feature_headings = [\n",
    "    \"d1\",\"d2\",\"d3\",\"d4\",\"d5\",\"d6\",\"First Layer\",\"Second Layer\"\n",
    "]\n",
    "\n",
    "output_values = labels[feature_headings]\n",
    "input_features = labels[[c for c in labels.columns if c not in feature_headings]]\n",
    "\n",
    "input_train, input_test, output_train, output_test = train_test_split(input_features, output_values, test_size=0.2, random_state=42)"
   ]
  },
  {
   "cell_type": "code",
   "execution_count": 3,
   "metadata": {
    "scrolled": true
   },
   "outputs": [],
   "source": [
    "reverse_model = ReverseTMMModel(serialised_model_path=\"reverse_model.mdlsav\")\n",
    "\n",
    "if not reverse_model.is_trained:\n",
    "    history = reverse_model.train(input_train, output_train, epochs=10)"
   ]
  },
  {
   "cell_type": "code",
   "execution_count": 4,
   "metadata": {},
   "outputs": [],
   "source": [
    "forward_model = ForwardTMMModel(serialised_model_path=\"forward_model.mdlsav\")\n",
    "\n",
    "if not forward_model.is_trained:\n",
    "    forward_model.train(output_train, input_train)"
   ]
  },
  {
   "cell_type": "code",
   "execution_count": 5,
   "metadata": {},
   "outputs": [
    {
     "data": {
      "text/html": [
       "<div>\n",
       "<style scoped>\n",
       "    .dataframe tbody tr th:only-of-type {\n",
       "        vertical-align: middle;\n",
       "    }\n",
       "\n",
       "    .dataframe tbody tr th {\n",
       "        vertical-align: top;\n",
       "    }\n",
       "\n",
       "    .dataframe thead th {\n",
       "        text-align: right;\n",
       "    }\n",
       "</style>\n",
       "<table border=\"1\" class=\"dataframe\">\n",
       "  <thead>\n",
       "    <tr style=\"text-align: right;\">\n",
       "      <th></th>\n",
       "      <th>W400</th>\n",
       "      <th>W401</th>\n",
       "      <th>W402</th>\n",
       "      <th>W403</th>\n",
       "      <th>W404</th>\n",
       "      <th>W405</th>\n",
       "      <th>W406</th>\n",
       "      <th>W407</th>\n",
       "      <th>W408</th>\n",
       "      <th>W409</th>\n",
       "      <th>...</th>\n",
       "      <th>W741</th>\n",
       "      <th>W742</th>\n",
       "      <th>W743</th>\n",
       "      <th>W744</th>\n",
       "      <th>W745</th>\n",
       "      <th>W746</th>\n",
       "      <th>W747</th>\n",
       "      <th>W748</th>\n",
       "      <th>W749</th>\n",
       "      <th>W750</th>\n",
       "    </tr>\n",
       "  </thead>\n",
       "  <tbody>\n",
       "    <tr>\n",
       "      <th>6672</th>\n",
       "      <td>0.505733</td>\n",
       "      <td>0.507141</td>\n",
       "      <td>0.508547</td>\n",
       "      <td>0.509951</td>\n",
       "      <td>0.511354</td>\n",
       "      <td>0.512754</td>\n",
       "      <td>0.514152</td>\n",
       "      <td>0.515549</td>\n",
       "      <td>0.516943</td>\n",
       "      <td>0.518336</td>\n",
       "      <td>...</td>\n",
       "      <td>0.722468</td>\n",
       "      <td>0.722718</td>\n",
       "      <td>0.722968</td>\n",
       "      <td>0.723217</td>\n",
       "      <td>0.723466</td>\n",
       "      <td>0.723715</td>\n",
       "      <td>0.723963</td>\n",
       "      <td>0.724211</td>\n",
       "      <td>0.724458</td>\n",
       "      <td>0.724705</td>\n",
       "    </tr>\n",
       "  </tbody>\n",
       "</table>\n",
       "<p>1 rows × 351 columns</p>\n",
       "</div>"
      ],
      "text/plain": [
       "          W400      W401      W402      W403      W404      W405      W406  \\\n",
       "6672  0.505733  0.507141  0.508547  0.509951  0.511354  0.512754  0.514152   \n",
       "\n",
       "          W407      W408      W409  ...      W741      W742      W743  \\\n",
       "6672  0.515549  0.516943  0.518336  ...  0.722468  0.722718  0.722968   \n",
       "\n",
       "          W744      W745      W746      W747      W748      W749      W750  \n",
       "6672  0.723217  0.723466  0.723715  0.723963  0.724211  0.724458  0.724705  \n",
       "\n",
       "[1 rows x 351 columns]"
      ]
     },
     "execution_count": 5,
     "metadata": {},
     "output_type": "execute_result"
    }
   ],
   "source": [
    "index = random.randint(0, len(input_test) - 1)\n",
    "input_sample = input_test.iloc[[index]]\n",
    "\n",
    "input_sample"
   ]
  },
  {
   "cell_type": "code",
   "execution_count": 9,
   "metadata": {},
   "outputs": [
    {
     "name": "stdout",
     "output_type": "stream",
     "text": [
      "1/1 [==============================] - 0s 14ms/step\n",
      "model predicted:      First Layer Second Layer\n",
      "6672          Ni        KTaO3\n",
      "actual combination:      First Layer Second Layer\n",
      "6672          Ni         SiO2\n"
     ]
    },
    {
     "data": {
      "text/html": [
       "<div>\n",
       "<style scoped>\n",
       "    .dataframe tbody tr th:only-of-type {\n",
       "        vertical-align: middle;\n",
       "    }\n",
       "\n",
       "    .dataframe tbody tr th {\n",
       "        vertical-align: top;\n",
       "    }\n",
       "\n",
       "    .dataframe thead th {\n",
       "        text-align: right;\n",
       "    }\n",
       "</style>\n",
       "<table border=\"1\" class=\"dataframe\">\n",
       "  <thead>\n",
       "    <tr style=\"text-align: right;\">\n",
       "      <th></th>\n",
       "      <th>d1</th>\n",
       "      <th>d2</th>\n",
       "      <th>d3</th>\n",
       "      <th>d4</th>\n",
       "      <th>d5</th>\n",
       "      <th>d6</th>\n",
       "      <th>First Layer</th>\n",
       "      <th>Second Layer</th>\n",
       "    </tr>\n",
       "  </thead>\n",
       "  <tbody>\n",
       "    <tr>\n",
       "      <th>6672</th>\n",
       "      <td>34.824745</td>\n",
       "      <td>36.65834</td>\n",
       "      <td>35.05691</td>\n",
       "      <td>36.25308</td>\n",
       "      <td>36.09629</td>\n",
       "      <td>34.91046</td>\n",
       "      <td>Ni</td>\n",
       "      <td>KTaO3</td>\n",
       "    </tr>\n",
       "  </tbody>\n",
       "</table>\n",
       "</div>"
      ],
      "text/plain": [
       "             d1        d2        d3        d4        d5        d6 First Layer  \\\n",
       "6672  34.824745  36.65834  35.05691  36.25308  36.09629  34.91046          Ni   \n",
       "\n",
       "     Second Layer  \n",
       "6672        KTaO3  "
      ]
     },
     "execution_count": 9,
     "metadata": {},
     "output_type": "execute_result"
    }
   ],
   "source": [
    "\n",
    "output_sample = output_test.iloc[[index]]\n",
    "mat_predict = reverse_model.predict(input_sample)\n",
    "pred = mat_predict[[\"First Layer\", \"Second Layer\"]]\n",
    "act = output_sample[[\"First Layer\", \"Second Layer\"]]\n",
    "\n",
    "\n",
    "print(f\"model predicted: {pred}\")\n",
    "print(f\"actual combination: {act}\")\n",
    "\n",
    "mat_predict"
   ]
  },
  {
   "cell_type": "code",
   "execution_count": 10,
   "metadata": {},
   "outputs": [
    {
     "name": "stderr",
     "output_type": "stream",
     "text": [
      "2023-06-20 14:02:27.764409: W tensorflow/core/framework/op_kernel.cc:1807] OP_REQUIRES failed at cast_op.cc:121 : UNIMPLEMENTED: Cast string to float is not supported\n"
     ]
    },
    {
     "ename": "UnimplementedError",
     "evalue": "Graph execution error:\n\nDetected at node 'model_1/Cast' defined at (most recent call last):\n    File \"/usr/lib/python3.10/runpy.py\", line 196, in _run_module_as_main\n      return _run_code(code, main_globals, None,\n    File \"/usr/lib/python3.10/runpy.py\", line 86, in _run_code\n      exec(code, run_globals)\n    File \"/home/clk/repos/l2-transfer-matrix-method/.venv/lib/python3.10/site-packages/ipykernel_launcher.py\", line 17, in <module>\n      app.launch_new_instance()\n    File \"/home/clk/repos/l2-transfer-matrix-method/.venv/lib/python3.10/site-packages/traitlets/config/application.py\", line 1043, in launch_instance\n      app.start()\n    File \"/home/clk/repos/l2-transfer-matrix-method/.venv/lib/python3.10/site-packages/ipykernel/kernelapp.py\", line 725, in start\n      self.io_loop.start()\n    File \"/home/clk/repos/l2-transfer-matrix-method/.venv/lib/python3.10/site-packages/tornado/platform/asyncio.py\", line 195, in start\n      self.asyncio_loop.run_forever()\n    File \"/usr/lib/python3.10/asyncio/base_events.py\", line 600, in run_forever\n      self._run_once()\n    File \"/usr/lib/python3.10/asyncio/base_events.py\", line 1896, in _run_once\n      handle._run()\n    File \"/usr/lib/python3.10/asyncio/events.py\", line 80, in _run\n      self._context.run(self._callback, *self._args)\n    File \"/home/clk/repos/l2-transfer-matrix-method/.venv/lib/python3.10/site-packages/ipykernel/kernelbase.py\", line 513, in dispatch_queue\n      await self.process_one()\n    File \"/home/clk/repos/l2-transfer-matrix-method/.venv/lib/python3.10/site-packages/ipykernel/kernelbase.py\", line 502, in process_one\n      await dispatch(*args)\n    File \"/home/clk/repos/l2-transfer-matrix-method/.venv/lib/python3.10/site-packages/ipykernel/kernelbase.py\", line 409, in dispatch_shell\n      await result\n    File \"/home/clk/repos/l2-transfer-matrix-method/.venv/lib/python3.10/site-packages/ipykernel/kernelbase.py\", line 729, in execute_request\n      reply_content = await reply_content\n    File \"/home/clk/repos/l2-transfer-matrix-method/.venv/lib/python3.10/site-packages/ipykernel/ipkernel.py\", line 422, in do_execute\n      res = shell.run_cell(\n    File \"/home/clk/repos/l2-transfer-matrix-method/.venv/lib/python3.10/site-packages/ipykernel/zmqshell.py\", line 540, in run_cell\n      return super().run_cell(*args, **kwargs)\n    File \"/home/clk/repos/l2-transfer-matrix-method/.venv/lib/python3.10/site-packages/IPython/core/interactiveshell.py\", line 3009, in run_cell\n      result = self._run_cell(\n    File \"/home/clk/repos/l2-transfer-matrix-method/.venv/lib/python3.10/site-packages/IPython/core/interactiveshell.py\", line 3064, in _run_cell\n      result = runner(coro)\n    File \"/home/clk/repos/l2-transfer-matrix-method/.venv/lib/python3.10/site-packages/IPython/core/async_helpers.py\", line 129, in _pseudo_sync_runner\n      coro.send(None)\n    File \"/home/clk/repos/l2-transfer-matrix-method/.venv/lib/python3.10/site-packages/IPython/core/interactiveshell.py\", line 3269, in run_cell_async\n      has_raised = await self.run_ast_nodes(code_ast.body, cell_name,\n    File \"/home/clk/repos/l2-transfer-matrix-method/.venv/lib/python3.10/site-packages/IPython/core/interactiveshell.py\", line 3448, in run_ast_nodes\n      if await self.run_code(code, result, async_=asy):\n    File \"/home/clk/repos/l2-transfer-matrix-method/.venv/lib/python3.10/site-packages/IPython/core/interactiveshell.py\", line 3508, in run_code\n      exec(code_obj, self.user_global_ns, self.user_ns)\n    File \"/tmp/ipykernel_16940/3224614959.py\", line 11, in <module>\n      predicted_waveform = forward_model.predict(mat_predict)\n    File \"/home/clk/repos/l2-transfer-matrix-method/tmm_ml_models/serialisable_model.py\", line 22, in wrapper\n      return func(self, *args, **kwargs)\n    File \"/home/clk/repos/l2-transfer-matrix-method/tmm_ml_models/serialisable_model.py\", line 68, in predict\n      return self._predict(features)\n    File \"/home/clk/repos/l2-transfer-matrix-method/tmm_ml_models/forward_model.py\", line 84, in _predict\n      res_array = self.model.predict(inputs)\n    File \"/home/clk/repos/l2-transfer-matrix-method/.venv/lib/python3.10/site-packages/keras/utils/traceback_utils.py\", line 65, in error_handler\n      return fn(*args, **kwargs)\n    File \"/home/clk/repos/l2-transfer-matrix-method/.venv/lib/python3.10/site-packages/keras/engine/training.py\", line 2382, in predict\n      tmp_batch_outputs = self.predict_function(iterator)\n    File \"/home/clk/repos/l2-transfer-matrix-method/.venv/lib/python3.10/site-packages/keras/engine/training.py\", line 2169, in predict_function\n      return step_function(self, iterator)\n    File \"/home/clk/repos/l2-transfer-matrix-method/.venv/lib/python3.10/site-packages/keras/engine/training.py\", line 2155, in step_function\n      outputs = model.distribute_strategy.run(run_step, args=(data,))\n    File \"/home/clk/repos/l2-transfer-matrix-method/.venv/lib/python3.10/site-packages/keras/engine/training.py\", line 2143, in run_step\n      outputs = model.predict_step(data)\n    File \"/home/clk/repos/l2-transfer-matrix-method/.venv/lib/python3.10/site-packages/keras/engine/training.py\", line 2111, in predict_step\n      return self(x, training=False)\n    File \"/home/clk/repos/l2-transfer-matrix-method/.venv/lib/python3.10/site-packages/keras/utils/traceback_utils.py\", line 65, in error_handler\n      return fn(*args, **kwargs)\n    File \"/home/clk/repos/l2-transfer-matrix-method/.venv/lib/python3.10/site-packages/keras/engine/training.py\", line 558, in __call__\n      return super().__call__(*args, **kwargs)\n    File \"/home/clk/repos/l2-transfer-matrix-method/.venv/lib/python3.10/site-packages/keras/utils/traceback_utils.py\", line 65, in error_handler\n      return fn(*args, **kwargs)\n    File \"/home/clk/repos/l2-transfer-matrix-method/.venv/lib/python3.10/site-packages/keras/engine/base_layer.py\", line 1145, in __call__\n      outputs = call_fn(inputs, *args, **kwargs)\n    File \"/home/clk/repos/l2-transfer-matrix-method/.venv/lib/python3.10/site-packages/keras/utils/traceback_utils.py\", line 96, in error_handler\n      return fn(*args, **kwargs)\n    File \"/home/clk/repos/l2-transfer-matrix-method/.venv/lib/python3.10/site-packages/keras/engine/functional.py\", line 512, in call\n      return self._run_internal_graph(inputs, training=training, mask=mask)\n    File \"/home/clk/repos/l2-transfer-matrix-method/.venv/lib/python3.10/site-packages/keras/engine/functional.py\", line 651, in _run_internal_graph\n      y = self._conform_to_reference_input(y, ref_input=x)\n    File \"/home/clk/repos/l2-transfer-matrix-method/.venv/lib/python3.10/site-packages/keras/engine/functional.py\", line 748, in _conform_to_reference_input\n      tensor = tf.cast(tensor, dtype=ref_input.dtype)\nNode: 'model_1/Cast'\nCast string to float is not supported\n\t [[{{node model_1/Cast}}]] [Op:__inference_predict_function_8973]",
     "output_type": "error",
     "traceback": [
      "\u001b[0;31m---------------------------------------------------------------------------\u001b[0m",
      "\u001b[0;31mUnimplementedError\u001b[0m                        Traceback (most recent call last)",
      "Cell \u001b[0;32mIn[10], line 2\u001b[0m\n\u001b[1;32m      1\u001b[0m reference_waveform \u001b[38;5;241m=\u001b[39m input_sample\n\u001b[0;32m----> 2\u001b[0m predicted_waveform \u001b[38;5;241m=\u001b[39m \u001b[43mforward_model\u001b[49m\u001b[38;5;241;43m.\u001b[39;49m\u001b[43mpredict\u001b[49m\u001b[43m(\u001b[49m\u001b[43mmat_predict\u001b[49m\u001b[43m)\u001b[49m\n",
      "File \u001b[0;32m~/repos/l2-transfer-matrix-method/tmm_ml_models/serialisable_model.py:22\u001b[0m, in \u001b[0;36mrequire_trained.<locals>.decorator.<locals>.wrapper\u001b[0;34m(self, *args, **kwargs)\u001b[0m\n\u001b[1;32m     20\u001b[0m \u001b[38;5;28;01mif\u001b[39;00m \u001b[38;5;129;01mnot\u001b[39;00m \u001b[38;5;28mself\u001b[39m\u001b[38;5;241m.\u001b[39mis_trained:\n\u001b[1;32m     21\u001b[0m     \u001b[38;5;28;01mraise\u001b[39;00m ModelStateException(\u001b[38;5;124m\"\u001b[39m\u001b[38;5;124mModel is not yet trained\u001b[39m\u001b[38;5;124m\"\u001b[39m \u001b[38;5;241m+\u001b[39m (\u001b[38;5;124mf\u001b[39m\u001b[38;5;124m\"\u001b[39m\u001b[38;5;124m: \u001b[39m\u001b[38;5;132;01m{\u001b[39;00mextra_message\u001b[38;5;132;01m}\u001b[39;00m\u001b[38;5;124m\"\u001b[39m \u001b[38;5;28;01mif\u001b[39;00m extra_message \u001b[38;5;28;01melse\u001b[39;00m \u001b[38;5;124m\"\u001b[39m\u001b[38;5;124m\"\u001b[39m))\n\u001b[0;32m---> 22\u001b[0m \u001b[38;5;28;01mreturn\u001b[39;00m \u001b[43mfunc\u001b[49m\u001b[43m(\u001b[49m\u001b[38;5;28;43mself\u001b[39;49m\u001b[43m,\u001b[49m\u001b[43m \u001b[49m\u001b[38;5;241;43m*\u001b[39;49m\u001b[43margs\u001b[49m\u001b[43m,\u001b[49m\u001b[43m \u001b[49m\u001b[38;5;241;43m*\u001b[39;49m\u001b[38;5;241;43m*\u001b[39;49m\u001b[43mkwargs\u001b[49m\u001b[43m)\u001b[49m\n",
      "File \u001b[0;32m~/repos/l2-transfer-matrix-method/tmm_ml_models/serialisable_model.py:68\u001b[0m, in \u001b[0;36mSerialisableModel.predict\u001b[0;34m(self, features)\u001b[0m\n\u001b[1;32m     66\u001b[0m \u001b[38;5;129m@require_trained\u001b[39m()\n\u001b[1;32m     67\u001b[0m \u001b[38;5;28;01mdef\u001b[39;00m \u001b[38;5;21mpredict\u001b[39m(\u001b[38;5;28mself\u001b[39m, features: pd\u001b[38;5;241m.\u001b[39mDataFrame) \u001b[38;5;241m-\u001b[39m\u001b[38;5;241m>\u001b[39m pd\u001b[38;5;241m.\u001b[39mDataFrame:\n\u001b[0;32m---> 68\u001b[0m     \u001b[38;5;28;01mreturn\u001b[39;00m \u001b[38;5;28;43mself\u001b[39;49m\u001b[38;5;241;43m.\u001b[39;49m\u001b[43m_predict\u001b[49m\u001b[43m(\u001b[49m\u001b[43mfeatures\u001b[49m\u001b[43m)\u001b[49m\n",
      "File \u001b[0;32m~/repos/l2-transfer-matrix-method/tmm_ml_models/forward_model.py:84\u001b[0m, in \u001b[0;36mForwardTMMModel._predict\u001b[0;34m(self, features)\u001b[0m\n\u001b[1;32m     82\u001b[0m \u001b[38;5;28;01mdef\u001b[39;00m \u001b[38;5;21m_predict\u001b[39m(\u001b[38;5;28mself\u001b[39m, features: pd\u001b[38;5;241m.\u001b[39mDataFrame) \u001b[38;5;241m-\u001b[39m\u001b[38;5;241m>\u001b[39m pd\u001b[38;5;241m.\u001b[39mDataFrame:\n\u001b[1;32m     83\u001b[0m     inputs \u001b[38;5;241m=\u001b[39m \u001b[38;5;28mself\u001b[39m\u001b[38;5;241m.\u001b[39m_split_features_to_inputs(features)\n\u001b[0;32m---> 84\u001b[0m     res_array \u001b[38;5;241m=\u001b[39m \u001b[38;5;28;43mself\u001b[39;49m\u001b[38;5;241;43m.\u001b[39;49m\u001b[43mmodel\u001b[49m\u001b[38;5;241;43m.\u001b[39;49m\u001b[43mpredict\u001b[49m\u001b[43m(\u001b[49m\u001b[43minputs\u001b[49m\u001b[43m)\u001b[49m\n\u001b[1;32m     85\u001b[0m     cols \u001b[38;5;241m=\u001b[39m pd\u001b[38;5;241m.\u001b[39mSeries(np\u001b[38;5;241m.\u001b[39marange(\u001b[38;5;241m400\u001b[39m,\u001b[38;5;241m751\u001b[39m))\n\u001b[1;32m     86\u001b[0m     \u001b[38;5;28;01mreturn\u001b[39;00m pd\u001b[38;5;241m.\u001b[39mDataFrame(res_array, columns\u001b[38;5;241m=\u001b[39mcols)\n",
      "File \u001b[0;32m~/repos/l2-transfer-matrix-method/.venv/lib/python3.10/site-packages/keras/utils/traceback_utils.py:70\u001b[0m, in \u001b[0;36mfilter_traceback.<locals>.error_handler\u001b[0;34m(*args, **kwargs)\u001b[0m\n\u001b[1;32m     67\u001b[0m     filtered_tb \u001b[38;5;241m=\u001b[39m _process_traceback_frames(e\u001b[38;5;241m.\u001b[39m__traceback__)\n\u001b[1;32m     68\u001b[0m     \u001b[38;5;66;03m# To get the full stack trace, call:\u001b[39;00m\n\u001b[1;32m     69\u001b[0m     \u001b[38;5;66;03m# `tf.debugging.disable_traceback_filtering()`\u001b[39;00m\n\u001b[0;32m---> 70\u001b[0m     \u001b[38;5;28;01mraise\u001b[39;00m e\u001b[38;5;241m.\u001b[39mwith_traceback(filtered_tb) \u001b[38;5;28;01mfrom\u001b[39;00m \u001b[38;5;28;01mNone\u001b[39;00m\n\u001b[1;32m     71\u001b[0m \u001b[38;5;28;01mfinally\u001b[39;00m:\n\u001b[1;32m     72\u001b[0m     \u001b[38;5;28;01mdel\u001b[39;00m filtered_tb\n",
      "File \u001b[0;32m~/repos/l2-transfer-matrix-method/.venv/lib/python3.10/site-packages/tensorflow/python/eager/execute.py:52\u001b[0m, in \u001b[0;36mquick_execute\u001b[0;34m(op_name, num_outputs, inputs, attrs, ctx, name)\u001b[0m\n\u001b[1;32m     50\u001b[0m \u001b[38;5;28;01mtry\u001b[39;00m:\n\u001b[1;32m     51\u001b[0m   ctx\u001b[38;5;241m.\u001b[39mensure_initialized()\n\u001b[0;32m---> 52\u001b[0m   tensors \u001b[38;5;241m=\u001b[39m pywrap_tfe\u001b[38;5;241m.\u001b[39mTFE_Py_Execute(ctx\u001b[38;5;241m.\u001b[39m_handle, device_name, op_name,\n\u001b[1;32m     53\u001b[0m                                       inputs, attrs, num_outputs)\n\u001b[1;32m     54\u001b[0m \u001b[38;5;28;01mexcept\u001b[39;00m core\u001b[38;5;241m.\u001b[39m_NotOkStatusException \u001b[38;5;28;01mas\u001b[39;00m e:\n\u001b[1;32m     55\u001b[0m   \u001b[38;5;28;01mif\u001b[39;00m name \u001b[38;5;129;01mis\u001b[39;00m \u001b[38;5;129;01mnot\u001b[39;00m \u001b[38;5;28;01mNone\u001b[39;00m:\n",
      "\u001b[0;31mUnimplementedError\u001b[0m: Graph execution error:\n\nDetected at node 'model_1/Cast' defined at (most recent call last):\n    File \"/usr/lib/python3.10/runpy.py\", line 196, in _run_module_as_main\n      return _run_code(code, main_globals, None,\n    File \"/usr/lib/python3.10/runpy.py\", line 86, in _run_code\n      exec(code, run_globals)\n    File \"/home/clk/repos/l2-transfer-matrix-method/.venv/lib/python3.10/site-packages/ipykernel_launcher.py\", line 17, in <module>\n      app.launch_new_instance()\n    File \"/home/clk/repos/l2-transfer-matrix-method/.venv/lib/python3.10/site-packages/traitlets/config/application.py\", line 1043, in launch_instance\n      app.start()\n    File \"/home/clk/repos/l2-transfer-matrix-method/.venv/lib/python3.10/site-packages/ipykernel/kernelapp.py\", line 725, in start\n      self.io_loop.start()\n    File \"/home/clk/repos/l2-transfer-matrix-method/.venv/lib/python3.10/site-packages/tornado/platform/asyncio.py\", line 195, in start\n      self.asyncio_loop.run_forever()\n    File \"/usr/lib/python3.10/asyncio/base_events.py\", line 600, in run_forever\n      self._run_once()\n    File \"/usr/lib/python3.10/asyncio/base_events.py\", line 1896, in _run_once\n      handle._run()\n    File \"/usr/lib/python3.10/asyncio/events.py\", line 80, in _run\n      self._context.run(self._callback, *self._args)\n    File \"/home/clk/repos/l2-transfer-matrix-method/.venv/lib/python3.10/site-packages/ipykernel/kernelbase.py\", line 513, in dispatch_queue\n      await self.process_one()\n    File \"/home/clk/repos/l2-transfer-matrix-method/.venv/lib/python3.10/site-packages/ipykernel/kernelbase.py\", line 502, in process_one\n      await dispatch(*args)\n    File \"/home/clk/repos/l2-transfer-matrix-method/.venv/lib/python3.10/site-packages/ipykernel/kernelbase.py\", line 409, in dispatch_shell\n      await result\n    File \"/home/clk/repos/l2-transfer-matrix-method/.venv/lib/python3.10/site-packages/ipykernel/kernelbase.py\", line 729, in execute_request\n      reply_content = await reply_content\n    File \"/home/clk/repos/l2-transfer-matrix-method/.venv/lib/python3.10/site-packages/ipykernel/ipkernel.py\", line 422, in do_execute\n      res = shell.run_cell(\n    File \"/home/clk/repos/l2-transfer-matrix-method/.venv/lib/python3.10/site-packages/ipykernel/zmqshell.py\", line 540, in run_cell\n      return super().run_cell(*args, **kwargs)\n    File \"/home/clk/repos/l2-transfer-matrix-method/.venv/lib/python3.10/site-packages/IPython/core/interactiveshell.py\", line 3009, in run_cell\n      result = self._run_cell(\n    File \"/home/clk/repos/l2-transfer-matrix-method/.venv/lib/python3.10/site-packages/IPython/core/interactiveshell.py\", line 3064, in _run_cell\n      result = runner(coro)\n    File \"/home/clk/repos/l2-transfer-matrix-method/.venv/lib/python3.10/site-packages/IPython/core/async_helpers.py\", line 129, in _pseudo_sync_runner\n      coro.send(None)\n    File \"/home/clk/repos/l2-transfer-matrix-method/.venv/lib/python3.10/site-packages/IPython/core/interactiveshell.py\", line 3269, in run_cell_async\n      has_raised = await self.run_ast_nodes(code_ast.body, cell_name,\n    File \"/home/clk/repos/l2-transfer-matrix-method/.venv/lib/python3.10/site-packages/IPython/core/interactiveshell.py\", line 3448, in run_ast_nodes\n      if await self.run_code(code, result, async_=asy):\n    File \"/home/clk/repos/l2-transfer-matrix-method/.venv/lib/python3.10/site-packages/IPython/core/interactiveshell.py\", line 3508, in run_code\n      exec(code_obj, self.user_global_ns, self.user_ns)\n    File \"/tmp/ipykernel_16940/3224614959.py\", line 11, in <module>\n      predicted_waveform = forward_model.predict(mat_predict)\n    File \"/home/clk/repos/l2-transfer-matrix-method/tmm_ml_models/serialisable_model.py\", line 22, in wrapper\n      return func(self, *args, **kwargs)\n    File \"/home/clk/repos/l2-transfer-matrix-method/tmm_ml_models/serialisable_model.py\", line 68, in predict\n      return self._predict(features)\n    File \"/home/clk/repos/l2-transfer-matrix-method/tmm_ml_models/forward_model.py\", line 84, in _predict\n      res_array = self.model.predict(inputs)\n    File \"/home/clk/repos/l2-transfer-matrix-method/.venv/lib/python3.10/site-packages/keras/utils/traceback_utils.py\", line 65, in error_handler\n      return fn(*args, **kwargs)\n    File \"/home/clk/repos/l2-transfer-matrix-method/.venv/lib/python3.10/site-packages/keras/engine/training.py\", line 2382, in predict\n      tmp_batch_outputs = self.predict_function(iterator)\n    File \"/home/clk/repos/l2-transfer-matrix-method/.venv/lib/python3.10/site-packages/keras/engine/training.py\", line 2169, in predict_function\n      return step_function(self, iterator)\n    File \"/home/clk/repos/l2-transfer-matrix-method/.venv/lib/python3.10/site-packages/keras/engine/training.py\", line 2155, in step_function\n      outputs = model.distribute_strategy.run(run_step, args=(data,))\n    File \"/home/clk/repos/l2-transfer-matrix-method/.venv/lib/python3.10/site-packages/keras/engine/training.py\", line 2143, in run_step\n      outputs = model.predict_step(data)\n    File \"/home/clk/repos/l2-transfer-matrix-method/.venv/lib/python3.10/site-packages/keras/engine/training.py\", line 2111, in predict_step\n      return self(x, training=False)\n    File \"/home/clk/repos/l2-transfer-matrix-method/.venv/lib/python3.10/site-packages/keras/utils/traceback_utils.py\", line 65, in error_handler\n      return fn(*args, **kwargs)\n    File \"/home/clk/repos/l2-transfer-matrix-method/.venv/lib/python3.10/site-packages/keras/engine/training.py\", line 558, in __call__\n      return super().__call__(*args, **kwargs)\n    File \"/home/clk/repos/l2-transfer-matrix-method/.venv/lib/python3.10/site-packages/keras/utils/traceback_utils.py\", line 65, in error_handler\n      return fn(*args, **kwargs)\n    File \"/home/clk/repos/l2-transfer-matrix-method/.venv/lib/python3.10/site-packages/keras/engine/base_layer.py\", line 1145, in __call__\n      outputs = call_fn(inputs, *args, **kwargs)\n    File \"/home/clk/repos/l2-transfer-matrix-method/.venv/lib/python3.10/site-packages/keras/utils/traceback_utils.py\", line 96, in error_handler\n      return fn(*args, **kwargs)\n    File \"/home/clk/repos/l2-transfer-matrix-method/.venv/lib/python3.10/site-packages/keras/engine/functional.py\", line 512, in call\n      return self._run_internal_graph(inputs, training=training, mask=mask)\n    File \"/home/clk/repos/l2-transfer-matrix-method/.venv/lib/python3.10/site-packages/keras/engine/functional.py\", line 651, in _run_internal_graph\n      y = self._conform_to_reference_input(y, ref_input=x)\n    File \"/home/clk/repos/l2-transfer-matrix-method/.venv/lib/python3.10/site-packages/keras/engine/functional.py\", line 748, in _conform_to_reference_input\n      tensor = tf.cast(tensor, dtype=ref_input.dtype)\nNode: 'model_1/Cast'\nCast string to float is not supported\n\t [[{{node model_1/Cast}}]] [Op:__inference_predict_function_8973]"
     ]
    }
   ],
   "source": [
    "reference_waveform = input_sample\n",
    "predicted_waveform = forward_model.predict(mat_predict)"
   ]
  },
  {
   "cell_type": "code",
   "execution_count": null,
   "metadata": {},
   "outputs": [],
   "source": [
    "import matplotlib.pyplot as plt\n",
    "\n",
    "x = np.arange(400,751)\n",
    "\n",
    "plt.plot(x, reference_waveform.values.T, label=\"Reference\")\n",
    "plt.plot(x, predicted_waveform.values.T, label=\"Predicted\")\n",
    "\n",
    "plt.ylim((0,1))\n",
    "plt.xlabel(r\"Wavelength ($nm$)\")\n",
    "plt.ylabel(\"Reflectance\")\n",
    "plt.grid()\n",
    "plt.title(\"Predicted vs Reference reflectance across Visible Spectrum\")\n",
    "\n",
    "plt.legend()"
   ]
  },
  {
   "cell_type": "code",
   "execution_count": null,
   "metadata": {},
   "outputs": [],
   "source": []
  }
 ],
 "metadata": {
  "kernelspec": {
   "display_name": "Python 3 (ipykernel)",
   "language": "python",
   "name": "python3"
  },
  "language_info": {
   "codemirror_mode": {
    "name": "ipython",
    "version": 3
   },
   "file_extension": ".py",
   "mimetype": "text/x-python",
   "name": "python",
   "nbconvert_exporter": "python",
   "pygments_lexer": "ipython3",
   "version": "3.10.6"
  }
 },
 "nbformat": 4,
 "nbformat_minor": 2
}
