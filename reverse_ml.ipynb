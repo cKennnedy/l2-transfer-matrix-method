{
 "cells": [
  {
   "cell_type": "code",
   "execution_count": 1,
   "metadata": {},
   "outputs": [
    {
     "name": "stderr",
     "output_type": "stream",
     "text": [
      "2023-06-20 01:05:10.135421: I tensorflow/tsl/cuda/cudart_stub.cc:28] Could not find cuda drivers on your machine, GPU will not be used.\n",
      "2023-06-20 01:05:10.223801: I tensorflow/tsl/cuda/cudart_stub.cc:28] Could not find cuda drivers on your machine, GPU will not be used.\n",
      "2023-06-20 01:05:10.224951: I tensorflow/core/platform/cpu_feature_guard.cc:182] This TensorFlow binary is optimized to use available CPU instructions in performance-critical operations.\n",
      "To enable the following instructions: AVX2 FMA, in other operations, rebuild TensorFlow with the appropriate compiler flags.\n",
      "2023-06-20 01:05:12.052921: W tensorflow/compiler/tf2tensorrt/utils/py_utils.cc:38] TF-TRT Warning: Could not find TensorRT\n"
     ]
    }
   ],
   "source": [
    "\n",
    "import pandas as pd\n",
    "from sklearn.model_selection import train_test_split\n",
    "from sklearn.preprocessing import LabelEncoder\n",
    "from keras.layers import Input, Dense, Concatenate\n",
    "from keras.models import Model\n",
    "import keras\n",
    "import matplotlib.pyplot as plt\n",
    "import random\n",
    "import numpy as np\n",
    "import tensorflow as tf\n",
    "\n",
    "from ml_model_forward import ForwardTMMModel\n",
    "# Read the CSV file\n",
    "data = pd.read_csv(\"R.csv\")"
   ]
  },
  {
   "cell_type": "code",
   "execution_count": 2,
   "metadata": {},
   "outputs": [
    {
     "name": "stderr",
     "output_type": "stream",
     "text": [
      "/tmp/ipykernel_5715/1402317043.py:11: SettingWithCopyWarning: \n",
      "A value is trying to be set on a copy of a slice from a DataFrame.\n",
      "Try using .loc[row_indexer,col_indexer] = value instead\n",
      "\n",
      "See the caveats in the documentation: https://pandas.pydata.org/pandas-docs/stable/user_guide/indexing.html#returning-a-view-versus-a-copy\n",
      "  output_values[\"First Layer\"] = label_encoder.fit_transform(output_values[\"First Layer\"])\n",
      "/tmp/ipykernel_5715/1402317043.py:12: SettingWithCopyWarning: \n",
      "A value is trying to be set on a copy of a slice from a DataFrame.\n",
      "Try using .loc[row_indexer,col_indexer] = value instead\n",
      "\n",
      "See the caveats in the documentation: https://pandas.pydata.org/pandas-docs/stable/user_guide/indexing.html#returning-a-view-versus-a-copy\n",
      "  output_values[\"Second Layer\"] = label_encoder.transform(output_values[\"Second Layer\"])\n"
     ]
    }
   ],
   "source": [
    "\n",
    "labels = data.copy()\n",
    "\n",
    "feature_headings = [\n",
    "    \"d1\",\"d2\",\"d3\",\"d4\",\"d5\",\"d6\",\"First Layer\",\"Second Layer\"\n",
    "]\n",
    "\n",
    "output_values = labels[feature_headings]\n",
    "input_features = labels[[c for c in labels.columns if c not in feature_headings]]\n",
    "label_encoder = LabelEncoder()\n",
    "\n",
    "output_values[\"First Layer\"] = label_encoder.fit_transform(output_values[\"First Layer\"])\n",
    "output_values[\"Second Layer\"] = label_encoder.transform(output_values[\"Second Layer\"])\n",
    "\n",
    "unique_materials = pd.unique(data[['First Layer', 'Second Layer']].values.ravel())\n",
    "\n",
    "\n",
    "num_materials = len(unique_materials)\n",
    "num_wavelengths = 351\n",
    "\n",
    "input_train, input_test, output_train, output_test = train_test_split(input_features, output_values, test_size=0.2, random_state=42)\n",
    "input_train, input_val, output_train, output_val = train_test_split(input_train, output_train, test_size=0.2, random_state=42)"
   ]
  },
  {
   "cell_type": "code",
   "execution_count": 3,
   "metadata": {},
   "outputs": [],
   "source": [
    "i = Input(num_wavelengths,)\n",
    "\n",
    "dl1 = Dense(num_wavelengths, activation=\"PReLU\", input_shape=(num_wavelengths,))(i)\n",
    "\n",
    "m1dl2 = Dense(256, activation=\"PReLU\")(dl1)\n",
    "m2dl2 = Dense(256, activation=\"PReLU\")(dl1)\n",
    "tdl2 = Dense(256, activation=\"PReLU\")(dl1)\n",
    "\n",
    "concatenated_input = Concatenate()([m1dl2, m2dl2, tdl2])\n",
    "\n",
    "common_layer = Dense(500)(concatenated_input)\n",
    "\n",
    "m1dl3 = Dense(128, activation=\"PReLU\")(common_layer)\n",
    "m2dl3 = Dense(128, activation=\"PReLU\")(common_layer)\n",
    "tdl3 = Dense(128, activation=\"PReLU\")(common_layer)\n",
    "\n",
    "out1 = Dense(num_materials, \"softmax\", name=\"first_layer\")(m1dl3)\n",
    "out2 = Dense(num_materials, \"softmax\", name=\"second_layer\")(m2dl3)\n",
    "\n",
    "material1 = Concatenate()([tdl3,out1])\n",
    "material2 = Concatenate()([tdl3,out2])\n",
    "t1 = Dense(1, \"relu\", name=\"t1\")(material1)\n",
    "t2 = Dense(1, \"relu\", name=\"t2\")(material2)\n",
    "t3 = Dense(1, \"relu\", name=\"t3\")(material1)\n",
    "t4 = Dense(1, \"relu\", name=\"t4\")(material2)\n",
    "t5 = Dense(1, \"relu\", name=\"t5\")(material1)\n",
    "t6 = Dense(1, \"relu\", name=\"t6\")(material2)\n",
    "\n",
    "classifier = Model(inputs=i, outputs=[out1,out2,t1,t2,t3,t4,t5,t6])\n",
    "classifier.compile(\n",
    "    optimizer=\"adam\",\n",
    "    loss={\n",
    "        \"first_layer\": keras.losses.SparseCategoricalCrossentropy(),\n",
    "        \"second_layer\": keras.losses.SparseCategoricalCrossentropy(),\n",
    "        \"t1\": \"mean_squared_error\",\n",
    "        \"t2\": \"mean_squared_error\",\n",
    "        \"t3\": \"mean_squared_error\",\n",
    "        \"t4\": \"mean_squared_error\",\n",
    "        \"t5\": \"mean_squared_error\",\n",
    "        \"t6\": \"mean_squared_error\",\n",
    "    },\n",
    "    metrics={\n",
    "        \"first_layer\": tf.metrics.SparseCategoricalAccuracy(\"acc1\"),\n",
    "        \"second_layer\": tf.metrics.SparseCategoricalAccuracy(\"acc2\"),\n",
    "        \"t1\": \"accuracy\",\n",
    "        \"t2\": \"accuracy\",\n",
    "        \"t3\": \"accuracy\",\n",
    "        \"t4\": \"accuracy\",\n",
    "        \"t5\": \"accuracy\",\n",
    "        \"t6\": \"accuracy\",\n",
    "    }\n",
    ")"
   ]
  },
  {
   "cell_type": "code",
   "execution_count": 4,
   "metadata": {
    "scrolled": true
   },
   "outputs": [
    {
     "name": "stdout",
     "output_type": "stream",
     "text": [
      "Epoch 1/10\n",
      "600/600 [==============================] - 29s 32ms/step - loss: 3213.3271 - first_layer_loss: 3.5272 - second_layer_loss: 3.6808 - t1_loss: 330.9426 - t2_loss: 325.9100 - t3_loss: 1528.6875 - t4_loss: 330.7533 - t5_loss: 359.5565 - t6_loss: 330.2702 - first_layer_acc1: 0.0501 - second_layer_acc2: 0.0319 - t1_accuracy: 0.0000e+00 - t2_accuracy: 0.0000e+00 - t3_accuracy: 0.0000e+00 - t4_accuracy: 0.0000e+00 - t5_accuracy: 0.0000e+00 - t6_accuracy: 0.0000e+00 - val_loss: 2941.3384 - val_first_layer_loss: 3.2730 - val_second_layer_loss: 3.4650 - val_t1_loss: 292.0118 - val_t2_loss: 294.8276 - val_t3_loss: 1482.0834 - val_t4_loss: 282.0858 - val_t5_loss: 286.7247 - val_t6_loss: 296.8671 - val_first_layer_acc1: 0.0792 - val_second_layer_acc2: 0.0344 - val_t1_accuracy: 0.0000e+00 - val_t2_accuracy: 0.0000e+00 - val_t3_accuracy: 0.0000e+00 - val_t4_accuracy: 0.0000e+00 - val_t5_accuracy: 0.0000e+00 - val_t6_accuracy: 0.0000e+00\n",
      "Epoch 2/10\n",
      "600/600 [==============================] - 18s 30ms/step - loss: 2958.2305 - first_layer_loss: 3.2575 - second_layer_loss: 3.4633 - t1_loss: 284.4467 - t2_loss: 281.5923 - t3_loss: 1528.6875 - t4_loss: 285.3438 - t5_loss: 286.0950 - t6_loss: 285.3449 - first_layer_acc1: 0.0672 - second_layer_acc2: 0.0353 - t1_accuracy: 0.0000e+00 - t2_accuracy: 0.0000e+00 - t3_accuracy: 0.0000e+00 - t4_accuracy: 0.0000e+00 - t5_accuracy: 0.0000e+00 - t6_accuracy: 0.0000e+00 - val_loss: 2917.6938 - val_first_layer_loss: 3.1977 - val_second_layer_loss: 3.4597 - val_t1_loss: 280.8794 - val_t2_loss: 284.7761 - val_t3_loss: 1482.0834 - val_t4_loss: 283.6764 - val_t5_loss: 291.1298 - val_t6_loss: 288.4914 - val_first_layer_acc1: 0.0990 - val_second_layer_acc2: 0.0379 - val_t1_accuracy: 0.0000e+00 - val_t2_accuracy: 0.0000e+00 - val_t3_accuracy: 0.0000e+00 - val_t4_accuracy: 0.0000e+00 - val_t5_accuracy: 0.0000e+00 - val_t6_accuracy: 0.0000e+00\n",
      "Epoch 3/10\n",
      "600/600 [==============================] - 18s 31ms/step - loss: 2953.7285 - first_layer_loss: 3.2211 - second_layer_loss: 3.3720 - t1_loss: 284.1815 - t2_loss: 279.9337 - t3_loss: 1528.6875 - t4_loss: 284.6510 - t5_loss: 285.3978 - t6_loss: 284.2833 - first_layer_acc1: 0.0672 - second_layer_acc2: 0.0556 - t1_accuracy: 0.0000e+00 - t2_accuracy: 0.0000e+00 - t3_accuracy: 0.0000e+00 - t4_accuracy: 0.0000e+00 - t5_accuracy: 0.0000e+00 - t6_accuracy: 0.0000e+00 - val_loss: 2883.4033 - val_first_layer_loss: 3.2491 - val_second_layer_loss: 3.2693 - val_t1_loss: 279.8156 - val_t2_loss: 278.0787 - val_t3_loss: 1482.0834 - val_t4_loss: 275.3232 - val_t5_loss: 282.3996 - val_t6_loss: 279.1844 - val_first_layer_acc1: 0.0615 - val_second_layer_acc2: 0.0675 - val_t1_accuracy: 0.0000e+00 - val_t2_accuracy: 0.0000e+00 - val_t3_accuracy: 0.0000e+00 - val_t4_accuracy: 0.0000e+00 - val_t5_accuracy: 0.0000e+00 - val_t6_accuracy: 0.0000e+00\n",
      "Epoch 4/10\n",
      "600/600 [==============================] - 19s 31ms/step - loss: 2947.9241 - first_layer_loss: 3.1609 - second_layer_loss: 3.2613 - t1_loss: 283.0036 - t2_loss: 280.1667 - t3_loss: 1528.6875 - t4_loss: 282.2846 - t5_loss: 284.0677 - t6_loss: 283.2907 - first_layer_acc1: 0.0772 - second_layer_acc2: 0.0646 - t1_accuracy: 0.0000e+00 - t2_accuracy: 0.0000e+00 - t3_accuracy: 0.0000e+00 - t4_accuracy: 0.0000e+00 - t5_accuracy: 0.0000e+00 - t6_accuracy: 0.0000e+00 - val_loss: 2876.5703 - val_first_layer_loss: 3.2896 - val_second_layer_loss: 3.2306 - val_t1_loss: 274.7716 - val_t2_loss: 277.5848 - val_t3_loss: 1482.0834 - val_t4_loss: 276.5566 - val_t5_loss: 282.4167 - val_t6_loss: 276.6369 - val_first_layer_acc1: 0.0542 - val_second_layer_acc2: 0.0735 - val_t1_accuracy: 0.0000e+00 - val_t2_accuracy: 0.0000e+00 - val_t3_accuracy: 0.0000e+00 - val_t4_accuracy: 0.0000e+00 - val_t5_accuracy: 0.0000e+00 - val_t6_accuracy: 0.0000e+00\n",
      "Epoch 5/10\n",
      "600/600 [==============================] - 18s 30ms/step - loss: 2945.9578 - first_layer_loss: 3.1536 - second_layer_loss: 3.2436 - t1_loss: 282.2068 - t2_loss: 278.6070 - t3_loss: 1528.6875 - t4_loss: 281.9352 - t5_loss: 284.6395 - t6_loss: 283.4827 - first_layer_acc1: 0.0784 - second_layer_acc2: 0.0696 - t1_accuracy: 0.0000e+00 - t2_accuracy: 0.0000e+00 - t3_accuracy: 0.0000e+00 - t4_accuracy: 0.0000e+00 - t5_accuracy: 0.0000e+00 - t6_accuracy: 0.0000e+00 - val_loss: 2879.7249 - val_first_layer_loss: 3.0581 - val_second_layer_loss: 3.2198 - val_t1_loss: 276.8715 - val_t2_loss: 278.4417 - val_t3_loss: 1482.0834 - val_t4_loss: 276.9204 - val_t5_loss: 281.2173 - val_t6_loss: 277.9120 - val_first_layer_acc1: 0.0988 - val_second_layer_acc2: 0.0719 - val_t1_accuracy: 0.0000e+00 - val_t2_accuracy: 0.0000e+00 - val_t3_accuracy: 0.0000e+00 - val_t4_accuracy: 0.0000e+00 - val_t5_accuracy: 0.0000e+00 - val_t6_accuracy: 0.0000e+00\n",
      "Epoch 6/10\n",
      "600/600 [==============================] - 18s 30ms/step - loss: 2942.6267 - first_layer_loss: 3.1246 - second_layer_loss: 3.2139 - t1_loss: 280.6244 - t2_loss: 278.2666 - t3_loss: 1528.6875 - t4_loss: 282.3698 - t5_loss: 283.6884 - t6_loss: 282.6516 - first_layer_acc1: 0.0823 - second_layer_acc2: 0.0759 - t1_accuracy: 0.0000e+00 - t2_accuracy: 0.0000e+00 - t3_accuracy: 0.0000e+00 - t4_accuracy: 0.0000e+00 - t5_accuracy: 0.0000e+00 - t6_accuracy: 0.0000e+00 - val_loss: 2896.3323 - val_first_layer_loss: 3.0613 - val_second_layer_loss: 3.1807 - val_t1_loss: 278.2791 - val_t2_loss: 278.0125 - val_t3_loss: 1482.0834 - val_t4_loss: 280.9373 - val_t5_loss: 290.0420 - val_t6_loss: 280.7367 - val_first_layer_acc1: 0.0737 - val_second_layer_acc2: 0.0773 - val_t1_accuracy: 0.0000e+00 - val_t2_accuracy: 0.0000e+00 - val_t3_accuracy: 0.0000e+00 - val_t4_accuracy: 0.0000e+00 - val_t5_accuracy: 0.0000e+00 - val_t6_accuracy: 0.0000e+00\n",
      "Epoch 7/10\n",
      "600/600 [==============================] - 19s 32ms/step - loss: 2939.8953 - first_layer_loss: 3.0955 - second_layer_loss: 3.2030 - t1_loss: 280.7973 - t2_loss: 278.0342 - t3_loss: 1528.6875 - t4_loss: 280.9342 - t5_loss: 282.8168 - t6_loss: 282.3268 - first_layer_acc1: 0.0928 - second_layer_acc2: 0.0789 - t1_accuracy: 0.0000e+00 - t2_accuracy: 0.0000e+00 - t3_accuracy: 0.0000e+00 - t4_accuracy: 0.0000e+00 - t5_accuracy: 0.0000e+00 - t6_accuracy: 0.0000e+00 - val_loss: 2877.0774 - val_first_layer_loss: 3.0743 - val_second_layer_loss: 3.1661 - val_t1_loss: 274.5633 - val_t2_loss: 278.2043 - val_t3_loss: 1482.0834 - val_t4_loss: 278.6027 - val_t5_loss: 280.5069 - val_t6_loss: 276.8771 - val_first_layer_acc1: 0.0646 - val_second_layer_acc2: 0.0900 - val_t1_accuracy: 0.0000e+00 - val_t2_accuracy: 0.0000e+00 - val_t3_accuracy: 0.0000e+00 - val_t4_accuracy: 0.0000e+00 - val_t5_accuracy: 0.0000e+00 - val_t6_accuracy: 0.0000e+00\n",
      "Epoch 8/10\n",
      "600/600 [==============================] - 20s 33ms/step - loss: 2937.1626 - first_layer_loss: 3.0899 - second_layer_loss: 3.2000 - t1_loss: 278.8863 - t2_loss: 277.2440 - t3_loss: 1528.6875 - t4_loss: 281.2193 - t5_loss: 282.9459 - t6_loss: 281.8901 - first_layer_acc1: 0.0935 - second_layer_acc2: 0.0789 - t1_accuracy: 0.0000e+00 - t2_accuracy: 0.0000e+00 - t3_accuracy: 0.0000e+00 - t4_accuracy: 0.0000e+00 - t5_accuracy: 0.0000e+00 - t6_accuracy: 0.0000e+00 - val_loss: 2877.3586 - val_first_layer_loss: 3.1163 - val_second_layer_loss: 3.1538 - val_t1_loss: 275.6888 - val_t2_loss: 278.0179 - val_t3_loss: 1482.0834 - val_t4_loss: 277.2450 - val_t5_loss: 282.3813 - val_t6_loss: 275.6719 - val_first_layer_acc1: 0.0754 - val_second_layer_acc2: 0.0910 - val_t1_accuracy: 0.0000e+00 - val_t2_accuracy: 0.0000e+00 - val_t3_accuracy: 0.0000e+00 - val_t4_accuracy: 0.0000e+00 - val_t5_accuracy: 0.0000e+00 - val_t6_accuracy: 0.0000e+00\n",
      "Epoch 9/10\n",
      "600/600 [==============================] - 19s 31ms/step - loss: 2765.3035 - first_layer_loss: 3.1123 - second_layer_loss: 3.1879 - t1_loss: 279.6753 - t2_loss: 277.6875 - t3_loss: 1352.8341 - t4_loss: 281.7703 - t5_loss: 283.8109 - t6_loss: 283.2247 - first_layer_acc1: 0.1004 - second_layer_acc2: 0.0828 - t1_accuracy: 0.0000e+00 - t2_accuracy: 0.0000e+00 - t3_accuracy: 0.0000e+00 - t4_accuracy: 0.0000e+00 - t5_accuracy: 0.0000e+00 - t6_accuracy: 0.0000e+00 - val_loss: 1680.6956 - val_first_layer_loss: 3.0482 - val_second_layer_loss: 3.1927 - val_t1_loss: 271.9669 - val_t2_loss: 277.3600 - val_t3_loss: 282.8527 - val_t4_loss: 281.6635 - val_t5_loss: 284.7025 - val_t6_loss: 275.9087 - val_first_layer_acc1: 0.0856 - val_second_layer_acc2: 0.0854 - val_t1_accuracy: 0.0000e+00 - val_t2_accuracy: 0.0000e+00 - val_t3_accuracy: 0.0000e+00 - val_t4_accuracy: 0.0000e+00 - val_t5_accuracy: 0.0000e+00 - val_t6_accuracy: 0.0000e+00\n"
     ]
    },
    {
     "name": "stdout",
     "output_type": "stream",
     "text": [
      "Epoch 10/10\n",
      "600/600 [==============================] - 19s 32ms/step - loss: 1683.6908 - first_layer_loss: 3.0454 - second_layer_loss: 3.1779 - t1_loss: 277.5498 - t2_loss: 276.9469 - t3_loss: 280.1049 - t4_loss: 280.0721 - t5_loss: 281.5400 - t6_loss: 281.2544 - first_layer_acc1: 0.1036 - second_layer_acc2: 0.0851 - t1_accuracy: 0.0000e+00 - t2_accuracy: 0.0000e+00 - t3_accuracy: 0.0000e+00 - t4_accuracy: 0.0000e+00 - t5_accuracy: 0.0000e+00 - t6_accuracy: 0.0000e+00 - val_loss: 1663.6813 - val_first_layer_loss: 2.9844 - val_second_layer_loss: 3.1404 - val_t1_loss: 271.0372 - val_t2_loss: 277.7765 - val_t3_loss: 277.9718 - val_t4_loss: 273.8821 - val_t5_loss: 280.4547 - val_t6_loss: 276.4341 - val_first_layer_acc1: 0.1333 - val_second_layer_acc2: 0.0967 - val_t1_accuracy: 0.0000e+00 - val_t2_accuracy: 0.0000e+00 - val_t3_accuracy: 0.0000e+00 - val_t4_accuracy: 0.0000e+00 - val_t5_accuracy: 0.0000e+00 - val_t6_accuracy: 0.0000e+00\n"
     ]
    },
    {
     "data": {
      "text/plain": [
       "<keras.callbacks.History at 0x7f3e20413040>"
      ]
     },
     "execution_count": 4,
     "metadata": {},
     "output_type": "execute_result"
    }
   ],
   "source": [
    "classifier.fit(\n",
    "    input_train,\n",
    "    {\n",
    "        \"first_layer\": output_train[\"First Layer\"],\n",
    "        \"second_layer\": output_train[\"Second Layer\"],\n",
    "        \"t1\": output_train[\"d1\"],\n",
    "        \"t2\": output_train[\"d2\"],\n",
    "        \"t3\": output_train[\"d3\"],\n",
    "        \"t4\": output_train[\"d4\"],\n",
    "        \"t5\": output_train[\"d5\"],\n",
    "        \"t6\": output_train[\"d6\"],\n",
    "    },\n",
    "    epochs=10,\n",
    "    validation_data=(\n",
    "        input_val,\n",
    "        {\n",
    "            \"first_layer\": output_val[\"First Layer\"],\n",
    "            \"second_layer\": output_val[\"Second Layer\"],\n",
    "            \"t1\": output_val[\"d1\"],\n",
    "            \"t2\": output_val[\"d2\"],\n",
    "            \"t3\": output_val[\"d3\"],\n",
    "            \"t4\": output_val[\"d4\"],\n",
    "            \"t5\": output_val[\"d5\"],\n",
    "            \"t6\": output_val[\"d6\"],\n",
    "        }\n",
    "    ),\n",
    "    batch_size=32\n",
    ")"
   ]
  },
  {
   "cell_type": "code",
   "execution_count": 20,
   "metadata": {},
   "outputs": [
    {
     "name": "stdout",
     "output_type": "stream",
     "text": [
      "True\n"
     ]
    }
   ],
   "source": [
    "forward_model = ForwardTMMModel(serialised_model_path=\"forward_model.mdlsav\")\n",
    "print(forward_model.is_trained)"
   ]
  },
  {
   "cell_type": "code",
   "execution_count": 23,
   "metadata": {},
   "outputs": [
    {
     "name": "stdout",
     "output_type": "stream",
     "text": [
      "1/1 [==============================] - 0s 37ms/step\n",
      "model predicted: ['Au' 'Pt']\n",
      "actual combination: ['ZrO2' 'Mn']\n",
      "1/1 [==============================] - 0s 27ms/step\n"
     ]
    },
    {
     "name": "stderr",
     "output_type": "stream",
     "text": [
      "/home/clk/repos/l2-transfer-matrix-method/.venv/lib/python3.10/site-packages/sklearn/preprocessing/_label.py:155: DataConversionWarning: A column-vector y was passed when a 1d array was expected. Please change the shape of y to (n_samples, ), for example using ravel().\n",
      "  y = column_or_1d(y, warn=True)\n"
     ]
    }
   ],
   "source": [
    "index = random.randint(0, len(input_test) - 1)\n",
    "input_sample = input_test.iloc[[index]]\n",
    "output_sample = output_test.iloc[[index]]\n",
    "mat_predict = classifier.predict([input_sample])\n",
    "pred = label_encoder.inverse_transform([np.argmax(mat_predict[0]), np.argmax(mat_predict[1])])\n",
    "act = label_encoder.inverse_transform([output_sample[\"First Layer\"], output_sample[\"Second Layer\"]])\n",
    "\n",
    "print(f\"model predicted: {pred}\")\n",
    "print(f\"actual combination: {act}\")\n",
    "\n",
    "reference_waveform = input_sample\n",
    "predicted_waveform = forward_model.predict_one([elem[0,0] for elem in mat_predict[:6]], pred)"
   ]
  },
  {
   "cell_type": "code",
   "execution_count": 24,
   "metadata": {},
   "outputs": [
    {
     "data": {
      "text/plain": [
       "<matplotlib.legend.Legend at 0x7f3e1a4beef0>"
      ]
     },
     "execution_count": 24,
     "metadata": {},
     "output_type": "execute_result"
    },
    {
     "data": {
      "image/png": "[encoded data removed]",
      "text/plain": [
       "<Figure size 640x480 with 1 Axes>"
      ]
     },
     "metadata": {},
     "output_type": "display_data"
    }
   ],
   "source": [
    "import matplotlib.pyplot as plt\n",
    "\n",
    "x = np.arange(400,751)\n",
    "\n",
    "plt.plot(x, reference_waveform.values.T, label=\"Reference\")\n",
    "plt.plot(x, predicted_waveform.values.T, label=\"Predicted\")\n",
    "\n",
    "plt.ylim((0,1))\n",
    "plt.xlabel(r\"Wavelength ($nm$)\")\n",
    "plt.ylabel(\"Reflectance\")\n",
    "plt.grid()\n",
    "plt.title(\"Predicted vs Reference reflectance across Visible Spectrum\")\n",
    "\n",
    "plt.legend()"
   ]
  },
  {
   "cell_type": "code",
   "execution_count": null,
   "metadata": {},
   "outputs": [],
   "source": []
  }
 ],
 "metadata": {
  "kernelspec": {
   "display_name": "Python 3 (ipykernel)",
   "language": "python",
   "name": "python3"
  },
  "language_info": {
   "codemirror_mode": {
    "name": "ipython",
    "version": 3
   },
   "file_extension": ".py",
   "mimetype": "text/x-python",
   "name": "python",
   "nbconvert_exporter": "python",
   "pygments_lexer": "ipython3",
   "version": "3.10.6"
  }
 },
 "nbformat": 4,
 "nbformat_minor": 2
}
