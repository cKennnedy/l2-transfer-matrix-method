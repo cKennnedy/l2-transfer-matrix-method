{
 "cells": [
  {
   "cell_type": "code",
   "execution_count": 1,
   "metadata": {},
   "outputs": [
    {
     "name": "stderr",
     "output_type": "stream",
     "text": [
      "2023-06-16 00:25:09.053658: I tensorflow/core/util/port.cc:110] oneDNN custom operations are on. You may see slightly different numerical results due to floating-point round-off errors from different computation orders. To turn them off, set the environment variable `TF_ENABLE_ONEDNN_OPTS=0`.\n",
      "2023-06-16 00:25:09.165553: I tensorflow/tsl/cuda/cudart_stub.cc:28] Could not find cuda drivers on your machine, GPU will not be used.\n",
      "2023-06-16 00:25:09.772828: I tensorflow/tsl/cuda/cudart_stub.cc:28] Could not find cuda drivers on your machine, GPU will not be used.\n",
      "2023-06-16 00:25:09.783108: I tensorflow/core/platform/cpu_feature_guard.cc:182] This TensorFlow binary is optimized to use available CPU instructions in performance-critical operations.\n",
      "To enable the following instructions: AVX2 AVX_VNNI FMA, in other operations, rebuild TensorFlow with the appropriate compiler flags.\n",
      "2023-06-16 00:25:12.008491: W tensorflow/compiler/tf2tensorrt/utils/py_utils.cc:38] TF-TRT Warning: Could not find TensorRT\n"
     ]
    }
   ],
   "source": [
    "import pandas as pd\n",
    "import numpy as np\n",
    "import tensorflow as tf\n",
    "from tensorflow import keras\n",
    "\n",
    "\n",
    "data = pd.read_csv(\"R.csv\")"
   ]
  },
  {
   "cell_type": "code",
   "execution_count": 2,
   "metadata": {},
   "outputs": [],
   "source": [
    "labels = data.copy()\n",
    "\n",
    "feature_headings = [\n",
    "    \"d1\",\"d2\",\"d3\",\"d4\",\"d5\",\"d6\",\"First Layer\",\"Second Layer\"\n",
    "]\n",
    "\n",
    "features = labels[feature_headings]\n",
    "labels = labels[[c for c in labels.columns if c not in feature_headings]]\n"
   ]
  },
  {
   "cell_type": "code",
   "execution_count": 3,
   "metadata": {},
   "outputs": [
    {
     "data": {
      "text/plain": [
       "array([[30, 40, 60, ..., 40, 24, 12],\n",
       "       [50, 50, 50, ..., 50,  2,  4],\n",
       "       [20, 10, 60, ..., 60,  0, 19],\n",
       "       ...,\n",
       "       [40, 20, 30, ..., 30,  2,  9],\n",
       "       [40, 40, 50, ..., 40, 26, 14],\n",
       "       [60, 60, 10, ..., 30,  3, 21]])"
      ]
     },
     "execution_count": 3,
     "metadata": {},
     "output_type": "execute_result"
    }
   ],
   "source": [
    "materials = list(set([*features[\"First Layer\"].unique(), *features[\"Second Layer\"].unique()]))\n",
    "\n",
    "mapping = {\n",
    "    v: i for (i,v) in enumerate(materials)\n",
    "}\n",
    "\n",
    "features[\"First Layer\"] = features[\"First Layer\"].apply(lambda x: mapping[x])\n",
    "features[\"Second Layer\"] = features[\"Second Layer\"].apply(lambda x: mapping[x])\n",
    "\n",
    "\n",
    "feature_array = np.array(features)\n",
    "feature_array"
   ]
  },
  {
   "cell_type": "code",
   "execution_count": 46,
   "metadata": {},
   "outputs": [],
   "source": [
    "ml_model = keras.Sequential([\n",
    "   \n",
    "    keras.layers.Dense(8,activation=\"relu\"),\n",
    "    keras.layers.Dropout(.5),\n",
    "    keras.layers.Dense(64,activation=\"relu\"),\n",
    "    keras.layers.Dropout(.5),\n",
    "    keras.layers.Dense(128, activation=\"relu\"),\n",
    "    keras.layers.Dropout(.5),\n",
    "    keras.layers.Dense(256,activation=\"relu\"),\n",
    "    keras.layers.Dense(len(labels.columns),activation=\"sigmoid\")\n",
    "])\n",
    "\n",
    "ml_model.compile(loss= keras.losses.MeanSquaredError(), optimizer=keras.optimizers.Adam())"
   ]
  },
  {
   "cell_type": "code",
   "execution_count": 47,
   "metadata": {},
   "outputs": [
    {
     "name": "stdout",
     "output_type": "stream",
     "text": [
      "Epoch 1/10\n",
      "844/844 [==============================] - 6s 5ms/step - loss: 0.1232 - val_loss: 0.1158\n",
      "Epoch 2/10\n",
      "844/844 [==============================] - 5s 6ms/step - loss: 0.1180 - val_loss: 0.1157\n",
      "Epoch 3/10\n",
      "844/844 [==============================] - 5s 6ms/step - loss: 0.1180 - val_loss: 0.1157\n",
      "Epoch 4/10\n",
      "844/844 [==============================] - 5s 6ms/step - loss: 0.1180 - val_loss: 0.1158\n",
      "Epoch 5/10\n",
      "844/844 [==============================] - 5s 6ms/step - loss: 0.1180 - val_loss: 0.1157\n",
      "Epoch 6/10\n",
      "844/844 [==============================] - 5s 5ms/step - loss: 0.1180 - val_loss: 0.1158\n",
      "Epoch 7/10\n",
      "844/844 [==============================] - 6s 8ms/step - loss: 0.1180 - val_loss: 0.1157\n",
      "Epoch 8/10\n",
      "844/844 [==============================] - 6s 7ms/step - loss: 0.1180 - val_loss: 0.1158\n",
      "Epoch 9/10\n",
      "844/844 [==============================] - 6s 7ms/step - loss: 0.1180 - val_loss: 0.1157\n",
      "Epoch 10/10\n",
      "844/844 [==============================] - 4s 5ms/step - loss: 0.1180 - val_loss: 0.1158\n"
     ]
    },
    {
     "data": {
      "text/plain": [
       "<keras.callbacks.History at 0x7fbf6c7261a0>"
      ]
     },
     "execution_count": 47,
     "metadata": {},
     "output_type": "execute_result"
    }
   ],
   "source": [
    "ml_model.fit(features, labels, epochs=10, validation_split=0.1)"
   ]
  },
  {
   "cell_type": "code",
   "execution_count": 6,
   "metadata": {},
   "outputs": [],
   "source": [
    "materials_to_use = mapping[\"SiO2\"], mapping[\"Co\"]"
   ]
  },
  {
   "cell_type": "code",
   "execution_count": 48,
   "metadata": {},
   "outputs": [
    {
     "name": "stdout",
     "output_type": "stream",
     "text": [
      "1/1 [==============================] - 0s 114ms/step\n"
     ]
    },
    {
     "name": "stderr",
     "output_type": "stream",
     "text": [
      "/root/repos/l2-transfer-matrix-method/.venv/lib/python3.10/site-packages/numpy/core/shape_base.py:65: VisibleDeprecationWarning: Creating an ndarray from ragged nested sequences (which is a list-or-tuple of lists-or-tuples-or ndarrays with different lengths or shapes) is deprecated. If you meant to do this, you must specify 'dtype=object' when creating the ndarray.\n",
      "  ary = asanyarray(ary)\n"
     ]
    },
    {
     "data": {
      "text/plain": [
       "[<matplotlib.lines.Line2D at 0x7fbf6c4f8670>,\n",
       " <matplotlib.lines.Line2D at 0x7fbf6c4f82b0>]"
      ]
     },
     "execution_count": 48,
     "metadata": {},
     "output_type": "execute_result"
    },
    {
     "data": {
      "image/png": "[encoded data removed]",
      "text/plain": [
       "<Figure size 640x480 with 1 Axes>"
      ]
     },
     "metadata": {},
     "output_type": "display_data"
    }
   ],
   "source": [
    "from transfer_matrix_method import reflectance\n",
    "from transfer_matrix_method.reflectance import Layer\n",
    "from transfer_matrix_method.refractive_index import MaterialRefractiveIndex\n",
    "import matplotlib.pyplot as plt\n",
    "\n",
    "sio2 = MaterialRefractiveIndex(\"SiO2\")\n",
    "Co = MaterialRefractiveIndex(\"Co\")\n",
    "\n",
    "spec = [10,10,10,20,20,20, *materials_to_use[::-1]]\n",
    "\n",
    "layers = [Layer(t*1e-9, MaterialRefractiveIndex(materials[spec[6:][i%2]])) for t,i in enumerate(spec[:6])]\n",
    "\n",
    "x = np.arange(400,751,1)\n",
    "y1 = ml_model.predict([spec]).T\n",
    "y2 = [reflectance(layers,x_i*1e-9)[\"reflectance\"] for x_i in x]\n",
    "\n",
    "fig,ax = plt.subplots()\n",
    "\n",
    "ax.plot(x,list(zip(y1,y2)))"
   ]
  },
  {
   "cell_type": "code",
   "execution_count": null,
   "metadata": {},
   "outputs": [],
   "source": []
  }
 ],
 "metadata": {
  "kernelspec": {
   "display_name": ".venv",
   "language": "python",
   "name": "python3"
  },
  "language_info": {
   "codemirror_mode": {
    "name": "ipython",
    "version": 3
   },
   "file_extension": ".py",
   "mimetype": "text/x-python",
   "name": "python",
   "nbconvert_exporter": "python",
   "pygments_lexer": "ipython3",
   "version": "3.10.6"
  },
  "orig_nbformat": 4
 },
 "nbformat": 4,
 "nbformat_minor": 2
}
