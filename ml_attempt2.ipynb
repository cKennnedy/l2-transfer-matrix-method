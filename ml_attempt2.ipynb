{
 "cells": [
  {
   "cell_type": "code",
   "execution_count": 1,
   "metadata": {},
   "outputs": [
    {
     "name": "stderr",
     "output_type": "stream",
     "text": [
      "2023-06-19 21:04:02.058042: I tensorflow/tsl/cuda/cudart_stub.cc:28] Could not find cuda drivers on your machine, GPU will not be used.\n",
      "2023-06-19 21:04:02.124585: I tensorflow/tsl/cuda/cudart_stub.cc:28] Could not find cuda drivers on your machine, GPU will not be used.\n",
      "2023-06-19 21:04:02.125850: I tensorflow/core/platform/cpu_feature_guard.cc:182] This TensorFlow binary is optimized to use available CPU instructions in performance-critical operations.\n",
      "To enable the following instructions: AVX2 FMA, in other operations, rebuild TensorFlow with the appropriate compiler flags.\n",
      "2023-06-19 21:04:03.057792: W tensorflow/compiler/tf2tensorrt/utils/py_utils.cc:38] TF-TRT Warning: Could not find TensorRT\n"
     ]
    }
   ],
   "source": [
    "from ml_model_forward import ForwardTMMModel\n",
    "import pandas as pd\n",
    "from sklearn.model_selection import train_test_split\n",
    "\n",
    "training_data = pd.read_csv(\"R.csv\")\n",
    "\n",
    "data_train, data_test = train_test_split(training_data, test_size=0.1)\n",
    "\n",
    "model = ForwardTMMModel()"
   ]
  },
  {
   "cell_type": "code",
   "execution_count": 2,
   "metadata": {},
   "outputs": [
    {
     "name": "stdout",
     "output_type": "stream",
     "text": [
      "Epoch 1/100\n"
     ]
    },
    {
     "name": "stderr",
     "output_type": "stream",
     "text": [
      "2023-06-19 21:04:08.811158: W tensorflow/tsl/framework/cpu_allocator_impl.cc:83] Allocation of 68234400 exceeds 10% of free system memory.\n"
     ]
    },
    {
     "name": "stdout",
     "output_type": "stream",
     "text": [
      "760/760 [==============================] - 5s 4ms/step - loss: 0.0530 - val_loss: 0.0142\n",
      "Epoch 2/100\n",
      "760/760 [==============================] - 3s 3ms/step - loss: 0.0121 - val_loss: 0.0100\n",
      "Epoch 3/100\n",
      "760/760 [==============================] - 3s 4ms/step - loss: 0.0091 - val_loss: 0.0078\n",
      "Epoch 4/100\n",
      "760/760 [==============================] - 3s 4ms/step - loss: 0.0068 - val_loss: 0.0054\n",
      "Epoch 5/100\n",
      "760/760 [==============================] - 3s 3ms/step - loss: 0.0050 - val_loss: 0.0043\n",
      "Epoch 6/100\n",
      "760/760 [==============================] - 3s 3ms/step - loss: 0.0040 - val_loss: 0.0039\n",
      "Epoch 7/100\n",
      "760/760 [==============================] - 2s 3ms/step - loss: 0.0033 - val_loss: 0.0033\n",
      "Epoch 8/100\n",
      "760/760 [==============================] - 2s 3ms/step - loss: 0.0030 - val_loss: 0.0028\n",
      "Epoch 9/100\n",
      "760/760 [==============================] - 2s 3ms/step - loss: 0.0028 - val_loss: 0.0026\n",
      "Epoch 10/100\n",
      "760/760 [==============================] - 2s 3ms/step - loss: 0.0025 - val_loss: 0.0022\n",
      "Epoch 11/100\n",
      "760/760 [==============================] - 2s 3ms/step - loss: 0.0024 - val_loss: 0.0022\n",
      "Epoch 12/100\n",
      "760/760 [==============================] - 2s 3ms/step - loss: 0.0021 - val_loss: 0.0020\n",
      "Epoch 13/100\n",
      "760/760 [==============================] - 2s 3ms/step - loss: 0.0020 - val_loss: 0.0019\n",
      "Epoch 14/100\n",
      "760/760 [==============================] - 2s 3ms/step - loss: 0.0019 - val_loss: 0.0018\n",
      "Epoch 15/100\n",
      "760/760 [==============================] - 2s 3ms/step - loss: 0.0018 - val_loss: 0.0016\n",
      "Epoch 16/100\n",
      "760/760 [==============================] - 2s 3ms/step - loss: 0.0017 - val_loss: 0.0015\n",
      "Epoch 17/100\n",
      "760/760 [==============================] - 2s 3ms/step - loss: 0.0016 - val_loss: 0.0014\n",
      "Epoch 18/100\n",
      "760/760 [==============================] - 2s 3ms/step - loss: 0.0016 - val_loss: 0.0014\n",
      "Epoch 19/100\n",
      "760/760 [==============================] - 3s 3ms/step - loss: 0.0015 - val_loss: 0.0014\n",
      "Epoch 20/100\n",
      "760/760 [==============================] - 2s 3ms/step - loss: 0.0014 - val_loss: 0.0012\n",
      "Epoch 21/100\n",
      "760/760 [==============================] - 2s 3ms/step - loss: 0.0014 - val_loss: 0.0014\n",
      "Epoch 22/100\n",
      "760/760 [==============================] - 2s 3ms/step - loss: 0.0013 - val_loss: 0.0016\n",
      "Epoch 23/100\n",
      "760/760 [==============================] - 2s 3ms/step - loss: 0.0013 - val_loss: 0.0012\n",
      "Epoch 24/100\n",
      "760/760 [==============================] - 3s 4ms/step - loss: 0.0012 - val_loss: 0.0013\n",
      "Epoch 25/100\n",
      "760/760 [==============================] - 3s 4ms/step - loss: 0.0012 - val_loss: 0.0010\n",
      "Epoch 26/100\n",
      "760/760 [==============================] - 3s 4ms/step - loss: 0.0012 - val_loss: 0.0011\n",
      "Epoch 27/100\n",
      "760/760 [==============================] - 3s 4ms/step - loss: 0.0012 - val_loss: 0.0011\n",
      "Epoch 28/100\n",
      "760/760 [==============================] - 2s 3ms/step - loss: 0.0011 - val_loss: 9.7345e-04\n",
      "Epoch 29/100\n",
      "760/760 [==============================] - 2s 3ms/step - loss: 0.0011 - val_loss: 9.3530e-04\n",
      "Epoch 30/100\n",
      "760/760 [==============================] - 2s 3ms/step - loss: 0.0011 - val_loss: 0.0011\n",
      "Epoch 31/100\n",
      "760/760 [==============================] - 2s 3ms/step - loss: 0.0010 - val_loss: 9.2022e-04\n",
      "Epoch 32/100\n",
      "760/760 [==============================] - 2s 3ms/step - loss: 0.0010 - val_loss: 0.0011\n",
      "Epoch 33/100\n",
      "760/760 [==============================] - 2s 3ms/step - loss: 9.9985e-04 - val_loss: 9.7994e-04\n",
      "Epoch 34/100\n",
      "760/760 [==============================] - 2s 3ms/step - loss: 0.0010 - val_loss: 9.0692e-04\n",
      "Epoch 35/100\n",
      "760/760 [==============================] - 2s 3ms/step - loss: 9.5722e-04 - val_loss: 8.6327e-04\n",
      "Epoch 36/100\n",
      "760/760 [==============================] - 2s 3ms/step - loss: 9.4783e-04 - val_loss: 9.1701e-04\n",
      "Epoch 37/100\n",
      "760/760 [==============================] - 2s 3ms/step - loss: 9.3477e-04 - val_loss: 8.6486e-04\n",
      "Epoch 38/100\n",
      "760/760 [==============================] - 2s 3ms/step - loss: 8.9877e-04 - val_loss: 8.3905e-04\n",
      "Epoch 39/100\n",
      "760/760 [==============================] - 2s 3ms/step - loss: 8.9806e-04 - val_loss: 0.0011\n",
      "Epoch 40/100\n",
      "760/760 [==============================] - 2s 3ms/step - loss: 9.0300e-04 - val_loss: 8.3806e-04\n",
      "Epoch 41/100\n",
      "760/760 [==============================] - 2s 3ms/step - loss: 8.7770e-04 - val_loss: 8.7801e-04\n",
      "Epoch 42/100\n",
      "760/760 [==============================] - 2s 3ms/step - loss: 8.6934e-04 - val_loss: 9.1891e-04\n",
      "Epoch 43/100\n",
      "760/760 [==============================] - 2s 3ms/step - loss: 8.3987e-04 - val_loss: 8.2071e-04\n",
      "Epoch 44/100\n",
      "760/760 [==============================] - 2s 3ms/step - loss: 8.6041e-04 - val_loss: 7.7306e-04\n",
      "Epoch 45/100\n",
      "760/760 [==============================] - 2s 3ms/step - loss: 8.5642e-04 - val_loss: 7.9558e-04\n",
      "Epoch 46/100\n",
      "760/760 [==============================] - 2s 3ms/step - loss: 8.0805e-04 - val_loss: 7.3365e-04\n",
      "Epoch 47/100\n",
      "760/760 [==============================] - 2s 3ms/step - loss: 8.2540e-04 - val_loss: 7.2307e-04\n",
      "Epoch 48/100\n",
      "760/760 [==============================] - 3s 4ms/step - loss: 8.1216e-04 - val_loss: 7.1718e-04\n",
      "Epoch 49/100\n",
      "760/760 [==============================] - 3s 4ms/step - loss: 7.7904e-04 - val_loss: 7.1869e-04\n",
      "Epoch 50/100\n",
      "760/760 [==============================] - 3s 4ms/step - loss: 8.0125e-04 - val_loss: 8.7705e-04\n",
      "Epoch 51/100\n",
      "760/760 [==============================] - 2s 3ms/step - loss: 7.6404e-04 - val_loss: 9.6138e-04\n",
      "Epoch 52/100\n",
      "760/760 [==============================] - 2s 3ms/step - loss: 7.8029e-04 - val_loss: 8.1899e-04\n",
      "Epoch 53/100\n",
      "760/760 [==============================] - 2s 3ms/step - loss: 7.8261e-04 - val_loss: 9.7359e-04\n",
      "Epoch 54/100\n",
      "760/760 [==============================] - 2s 3ms/step - loss: 7.6343e-04 - val_loss: 7.2480e-04\n",
      "Epoch 55/100\n",
      "760/760 [==============================] - 2s 3ms/step - loss: 7.6143e-04 - val_loss: 9.4627e-04\n",
      "Epoch 56/100\n",
      "760/760 [==============================] - 2s 3ms/step - loss: 7.4487e-04 - val_loss: 7.6150e-04\n",
      "Epoch 57/100\n",
      "760/760 [==============================] - 2s 3ms/step - loss: 7.3105e-04 - val_loss: 8.5563e-04\n",
      "Epoch 58/100\n",
      "760/760 [==============================] - 2s 3ms/step - loss: 7.2055e-04 - val_loss: 9.4723e-04\n",
      "Epoch 59/100\n",
      "760/760 [==============================] - 2s 3ms/step - loss: 7.4588e-04 - val_loss: 7.2687e-04\n",
      "Epoch 60/100\n",
      "760/760 [==============================] - 2s 3ms/step - loss: 7.2561e-04 - val_loss: 8.4661e-04\n",
      "Epoch 61/100\n",
      "760/760 [==============================] - 2s 3ms/step - loss: 7.2787e-04 - val_loss: 6.4633e-04\n",
      "Epoch 62/100\n",
      "760/760 [==============================] - 2s 3ms/step - loss: 7.2633e-04 - val_loss: 7.3186e-04\n",
      "Epoch 63/100\n",
      "760/760 [==============================] - 3s 3ms/step - loss: 7.2014e-04 - val_loss: 7.4318e-04\n",
      "Epoch 64/100\n",
      "760/760 [==============================] - 3s 4ms/step - loss: 6.8277e-04 - val_loss: 8.3355e-04\n",
      "Epoch 65/100\n",
      "760/760 [==============================] - 2s 3ms/step - loss: 6.9102e-04 - val_loss: 7.6693e-04\n",
      "Epoch 66/100\n",
      "760/760 [==============================] - 2s 3ms/step - loss: 7.0005e-04 - val_loss: 6.4805e-04\n",
      "Epoch 67/100\n",
      "760/760 [==============================] - 3s 4ms/step - loss: 6.8352e-04 - val_loss: 8.9853e-04\n",
      "Epoch 68/100\n",
      "760/760 [==============================] - 3s 4ms/step - loss: 6.7129e-04 - val_loss: 7.8224e-04\n",
      "Epoch 69/100\n",
      "760/760 [==============================] - 3s 4ms/step - loss: 6.7483e-04 - val_loss: 6.5308e-04\n",
      "Epoch 70/100\n",
      "760/760 [==============================] - 3s 4ms/step - loss: 6.7250e-04 - val_loss: 7.4830e-04\n",
      "Epoch 71/100\n",
      "760/760 [==============================] - 3s 4ms/step - loss: 6.5186e-04 - val_loss: 7.3385e-04\n",
      "Epoch 72/100\n",
      "760/760 [==============================] - 3s 4ms/step - loss: 6.6948e-04 - val_loss: 6.0036e-04\n",
      "Epoch 73/100\n",
      "760/760 [==============================] - 3s 4ms/step - loss: 6.7293e-04 - val_loss: 8.2857e-04\n",
      "Epoch 74/100\n",
      "760/760 [==============================] - 3s 4ms/step - loss: 6.3475e-04 - val_loss: 7.3447e-04\n",
      "Epoch 75/100\n",
      "760/760 [==============================] - 3s 4ms/step - loss: 6.4394e-04 - val_loss: 6.6035e-04\n",
      "Epoch 76/100\n",
      "760/760 [==============================] - 3s 4ms/step - loss: 6.3481e-04 - val_loss: 7.1350e-04\n",
      "Epoch 77/100\n",
      "760/760 [==============================] - 3s 4ms/step - loss: 6.4947e-04 - val_loss: 6.9516e-04\n",
      "Epoch 78/100\n",
      "760/760 [==============================] - 3s 4ms/step - loss: 6.4053e-04 - val_loss: 6.3952e-04\n",
      "Epoch 79/100\n",
      "760/760 [==============================] - 3s 4ms/step - loss: 6.1071e-04 - val_loss: 6.4463e-04\n",
      "Epoch 80/100\n",
      "760/760 [==============================] - 3s 4ms/step - loss: 6.3425e-04 - val_loss: 7.0840e-04\n",
      "Epoch 81/100\n",
      "760/760 [==============================] - 3s 4ms/step - loss: 6.2960e-04 - val_loss: 6.9657e-04\n",
      "Epoch 82/100\n",
      "760/760 [==============================] - 3s 4ms/step - loss: 6.1866e-04 - val_loss: 6.4331e-04\n",
      "Epoch 83/100\n",
      "760/760 [==============================] - 3s 4ms/step - loss: 6.4065e-04 - val_loss: 6.5853e-04\n",
      "Epoch 84/100\n",
      "760/760 [==============================] - 3s 4ms/step - loss: 5.9183e-04 - val_loss: 7.1353e-04\n",
      "Epoch 85/100\n",
      "760/760 [==============================] - 3s 4ms/step - loss: 6.1579e-04 - val_loss: 8.4984e-04\n",
      "Epoch 86/100\n",
      "760/760 [==============================] - 3s 4ms/step - loss: 6.2012e-04 - val_loss: 5.9330e-04\n",
      "Epoch 87/100\n",
      "760/760 [==============================] - 3s 4ms/step - loss: 5.9184e-04 - val_loss: 6.4410e-04\n",
      "Epoch 88/100\n",
      "760/760 [==============================] - 2s 3ms/step - loss: 5.9614e-04 - val_loss: 5.7377e-04\n",
      "Epoch 89/100\n",
      "760/760 [==============================] - 2s 3ms/step - loss: 5.8953e-04 - val_loss: 6.2356e-04\n",
      "Epoch 90/100\n",
      "760/760 [==============================] - 2s 3ms/step - loss: 6.0263e-04 - val_loss: 6.2679e-04\n",
      "Epoch 91/100\n",
      "760/760 [==============================] - 2s 3ms/step - loss: 5.9750e-04 - val_loss: 6.5162e-04\n",
      "Epoch 92/100\n",
      "760/760 [==============================] - 2s 3ms/step - loss: 5.8741e-04 - val_loss: 6.8107e-04\n",
      "Epoch 93/100\n",
      "760/760 [==============================] - 2s 3ms/step - loss: 5.8742e-04 - val_loss: 5.9996e-04\n",
      "Epoch 94/100\n",
      "760/760 [==============================] - 2s 3ms/step - loss: 5.8708e-04 - val_loss: 6.2695e-04\n",
      "Epoch 95/100\n",
      "760/760 [==============================] - 2s 3ms/step - loss: 5.7704e-04 - val_loss: 5.9885e-04\n",
      "Epoch 96/100\n",
      "760/760 [==============================] - 2s 3ms/step - loss: 5.7046e-04 - val_loss: 6.1686e-04\n",
      "Epoch 97/100\n",
      "760/760 [==============================] - 2s 3ms/step - loss: 5.9841e-04 - val_loss: 5.9350e-04\n",
      "Epoch 98/100\n",
      "760/760 [==============================] - 2s 3ms/step - loss: 5.7330e-04 - val_loss: 6.2996e-04\n",
      "Epoch 99/100\n",
      "760/760 [==============================] - 2s 3ms/step - loss: 5.8813e-04 - val_loss: 6.5105e-04\n",
      "Epoch 100/100\n",
      "760/760 [==============================] - 2s 3ms/step - loss: 5.5467e-04 - val_loss: 6.8087e-04\n"
     ]
    }
   ],
   "source": [
    "feature_cols = [\"d1\", \"d2\", \"d3\", \"d4\", \"d5\", \"d6\", \"First Layer\", \"Second Layer\"]\n",
    "\n",
    "history = model.train(data_train[feature_cols], data_train[[c for c in data_train.columns if c not in feature_cols]])"
   ]
  },
  {
   "cell_type": "code",
   "execution_count": 3,
   "metadata": {},
   "outputs": [],
   "source": [
    "import matplotlib.pyplot as plt"
   ]
  },
  {
   "cell_type": "code",
   "execution_count": 4,
   "metadata": {},
   "outputs": [
    {
     "data": {
      "image/png": "[encoded data removed]",
      "text/plain": [
       "<Figure size 640x480 with 1 Axes>"
      ]
     },
     "metadata": {},
     "output_type": "display_data"
    }
   ],
   "source": [
    "plt.plot(history.history['loss'], label='Training Loss')\n",
    "plt.plot(history.history['val_loss'], label='Validation Loss')\n",
    "plt.xlabel('Epochs')\n",
    "plt.ylabel('Loss')\n",
    "plt.legend()\n",
    "plt.show()"
   ]
  },
  {
   "cell_type": "code",
   "execution_count": 6,
   "metadata": {},
   "outputs": [
    {
     "ename": "TypeError",
     "evalue": "require_trained.<locals>.decorator() takes 1 positional argument but 2 were given",
     "output_type": "error",
     "traceback": [
      "\u001b[0;31m---------------------------------------------------------------------------\u001b[0m",
      "\u001b[0;31mTypeError\u001b[0m                                 Traceback (most recent call last)",
      "Cell \u001b[0;32mIn[6], line 12\u001b[0m\n\u001b[1;32m      9\u001b[0m output_sample \u001b[39m=\u001b[39m data_test[[c \u001b[39mfor\u001b[39;00m c \u001b[39min\u001b[39;00m data_test\u001b[39m.\u001b[39mcolumns \u001b[39mif\u001b[39;00m c \u001b[39mnot\u001b[39;00m \u001b[39min\u001b[39;00m feature_cols]]\u001b[39m.\u001b[39miloc[[index]]\n\u001b[1;32m     11\u001b[0m \u001b[39m# Make a prediction for the selected sample\u001b[39;00m\n\u001b[0;32m---> 12\u001b[0m prediction \u001b[39m=\u001b[39m model\u001b[39m.\u001b[39;49mpredict(input_sample)\n\u001b[1;32m     13\u001b[0m output_sample \u001b[39m=\u001b[39m np\u001b[39m.\u001b[39msqueeze(output_sample)\n\u001b[1;32m     14\u001b[0m prediction \u001b[39m=\u001b[39m np\u001b[39m.\u001b[39msqueeze(prediction)\n",
      "\u001b[0;31mTypeError\u001b[0m: require_trained.<locals>.decorator() takes 1 positional argument but 2 were given"
     ]
    }
   ],
   "source": [
    "import random\n",
    "import numpy as np\n",
    "# Select a random index from the test set\n",
    "index = random.randint(0, len(data_test[feature_cols]) - 1)\n",
    "# index = 2849\n",
    "\n",
    "# Get the corresponding input and output values\n",
    "input_sample = data_test[feature_cols].iloc[[index]]\n",
    "output_sample = data_test[[c for c in data_test.columns if c not in feature_cols]].iloc[[index]]\n",
    "\n",
    "# Make a prediction for the selected sample\n",
    "prediction = model.predict(input_sample)\n",
    "output_sample = np.squeeze(output_sample)\n",
    "prediction = np.squeeze(prediction)\n",
    "fig,ax = plt.subplots()\n",
    "x = np.arange(400,751)\n",
    "ax.plot(x, output_sample, label='Actual')\n",
    "ax.plot(x, prediction, label='Pred')\n",
    "ax.set_ylim(0,1)\n",
    "ax.legend()\n",
    "plt.show()"
   ]
  },
  {
   "cell_type": "code",
   "execution_count": null,
   "metadata": {},
   "outputs": [
    {
     "name": "stderr",
     "output_type": "stream",
     "text": [
      "WARNING:absl:Found untraced functions such as _update_step_xla while saving (showing 1 of 1). These functions will not be directly callable after loading.\n"
     ]
    },
    {
     "name": "stdout",
     "output_type": "stream",
     "text": [
      "INFO:tensorflow:Assets written to: forward_model/assets\n"
     ]
    },
    {
     "name": "stderr",
     "output_type": "stream",
     "text": [
      "INFO:tensorflow:Assets written to: forward_model/assets\n"
     ]
    }
   ],
   "source": [
    "model.save(\"forward_model\")"
   ]
  }
 ],
 "metadata": {
  "kernelspec": {
   "display_name": ".venv",
   "language": "python",
   "name": "python3"
  },
  "language_info": {
   "codemirror_mode": {
    "name": "ipython",
    "version": 3
   },
   "file_extension": ".py",
   "mimetype": "text/x-python",
   "name": "python",
   "nbconvert_exporter": "python",
   "pygments_lexer": "ipython3",
   "version": "3.10.6"
  },
  "orig_nbformat": 4
 },
 "nbformat": 4,
 "nbformat_minor": 2
}
