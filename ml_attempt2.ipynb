{
 "cells": [
  {
   "cell_type": "code",
   "execution_count": 1,
   "metadata": {},
   "outputs": [
    {
     "name": "stderr",
     "output_type": "stream",
     "text": [
      "2023-06-20 01:56:30.065385: I tensorflow/tsl/cuda/cudart_stub.cc:28] Could not find cuda drivers on your machine, GPU will not be used.\n",
      "2023-06-20 01:56:30.136755: I tensorflow/tsl/cuda/cudart_stub.cc:28] Could not find cuda drivers on your machine, GPU will not be used.\n",
      "2023-06-20 01:56:30.137810: I tensorflow/core/platform/cpu_feature_guard.cc:182] This TensorFlow binary is optimized to use available CPU instructions in performance-critical operations.\n",
      "To enable the following instructions: AVX2 FMA, in other operations, rebuild TensorFlow with the appropriate compiler flags.\n",
      "2023-06-20 01:56:32.020075: W tensorflow/compiler/tf2tensorrt/utils/py_utils.cc:38] TF-TRT Warning: Could not find TensorRT\n"
     ]
    }
   ],
   "source": [
    "from tmm_ml_models import ForwardTMMModel\n",
    "import pandas as pd\n",
    "from sklearn.model_selection import train_test_split\n",
    "\n",
    "training_data = pd.read_csv(\"R.csv\")\n",
    "\n",
    "data_train, data_test = train_test_split(training_data, test_size=0.1)\n",
    "\n",
    "model = ForwardTMMModel(serialised_model_path=\"forward_model\")"
   ]
  },
  {
   "cell_type": "code",
   "execution_count": 4,
   "metadata": {},
   "outputs": [
    {
     "data": {
      "text/plain": [
       "False"
      ]
     },
     "execution_count": 4,
     "metadata": {},
     "output_type": "execute_result"
    }
   ],
   "source": [
    "model = ForwardTMMModel()\n",
    "\n",
    "model.is_trained"
   ]
  },
  {
   "cell_type": "code",
   "execution_count": 5,
   "metadata": {},
   "outputs": [
    {
     "name": "stdout",
     "output_type": "stream",
     "text": [
      "Epoch 1/10\n",
      "760/760 [==============================] - 8s 6ms/step - loss: 0.0414 - val_loss: 0.0143\n",
      "Epoch 2/10\n",
      "760/760 [==============================] - 4s 5ms/step - loss: 0.0109 - val_loss: 0.0089\n",
      "Epoch 3/10\n",
      "760/760 [==============================] - 5s 7ms/step - loss: 0.0072 - val_loss: 0.0059\n",
      "Epoch 4/10\n",
      "760/760 [==============================] - 4s 5ms/step - loss: 0.0055 - val_loss: 0.0048\n",
      "Epoch 5/10\n",
      "760/760 [==============================] - 5s 6ms/step - loss: 0.0044 - val_loss: 0.0039\n",
      "Epoch 6/10\n",
      "760/760 [==============================] - 9s 11ms/step - loss: 0.0036 - val_loss: 0.0033\n",
      "Epoch 7/10\n",
      "760/760 [==============================] - 6s 7ms/step - loss: 0.0032 - val_loss: 0.0031\n",
      "Epoch 8/10\n",
      "760/760 [==============================] - 7s 10ms/step - loss: 0.0029 - val_loss: 0.0028\n",
      "Epoch 9/10\n",
      "760/760 [==============================] - 7s 9ms/step - loss: 0.0027 - val_loss: 0.0026\n",
      "Epoch 10/10\n",
      "760/760 [==============================] - 6s 7ms/step - loss: 0.0025 - val_loss: 0.0022\n"
     ]
    }
   ],
   "source": [
    "feature_cols = [\"d1\", \"d2\", \"d3\", \"d4\", \"d5\", \"d6\", \"First Layer\", \"Second Layer\"]\n",
    "if not model.is_trained:\n",
    "    history = model.train(data_train[feature_cols], data_train[[c for c in data_train.columns if c not in feature_cols]], epochs=10)"
   ]
  },
  {
   "cell_type": "code",
   "execution_count": 7,
   "metadata": {},
   "outputs": [],
   "source": [
    "import matplotlib.pyplot as plt"
   ]
  },
  {
   "cell_type": "code",
   "execution_count": 5,
   "metadata": {},
   "outputs": [
    {
     "name": "stderr",
     "output_type": "stream",
     "text": [
      "2023-06-20 00:25:39.600082: I tensorflow/core/common_runtime/executor.cc:1197] [/device:CPU:0] (DEBUG INFO) Executor start aborting (this does not indicate an error and you can ignore this message): INVALID_ARGUMENT: You must feed a value for placeholder tensor 'input_2' with dtype string and shape [?,2]\n",
      "\t [[{{node input_2}}]]\n",
      "2023-06-20 00:25:39.821759: I tensorflow/core/common_runtime/executor.cc:1197] [/device:CPU:0] (DEBUG INFO) Executor start aborting (this does not indicate an error and you can ignore this message): INVALID_ARGUMENT: You must feed a value for placeholder tensor 'input_2' with dtype string and shape [?,2]\n",
      "\t [[{{node input_2}}]]\n",
      "2023-06-20 00:25:39.987006: I tensorflow/core/common_runtime/executor.cc:1197] [/device:CPU:0] (DEBUG INFO) Executor start aborting (this does not indicate an error and you can ignore this message): INVALID_ARGUMENT: You must feed a value for placeholder tensor 'inputs_1' with dtype string and shape [?,2]\n",
      "\t [[{{node inputs_1}}]]\n",
      "2023-06-20 00:25:40.058699: I tensorflow/core/common_runtime/executor.cc:1197] [/device:CPU:0] (DEBUG INFO) Executor start aborting (this does not indicate an error and you can ignore this message): INVALID_ARGUMENT: You must feed a value for placeholder tensor 'inputs_1' with dtype string and shape [?,2]\n",
      "\t [[{{node inputs_1}}]]\n",
      "2023-06-20 00:25:40.451782: I tensorflow/core/common_runtime/executor.cc:1197] [/device:CPU:0] (DEBUG INFO) Executor start aborting (this does not indicate an error and you can ignore this message): INVALID_ARGUMENT: You must feed a value for placeholder tensor 'input_2' with dtype string and shape [?,2]\n",
      "\t [[{{node input_2}}]]\n",
      "2023-06-20 00:25:40.657979: I tensorflow/core/common_runtime/executor.cc:1197] [/device:CPU:0] (DEBUG INFO) Executor start aborting (this does not indicate an error and you can ignore this message): INVALID_ARGUMENT: You must feed a value for placeholder tensor 'inputs_1' with dtype string and shape [?,2]\n",
      "\t [[{{node inputs_1}}]]\n",
      "2023-06-20 00:25:40.712114: I tensorflow/core/common_runtime/executor.cc:1197] [/device:CPU:0] (DEBUG INFO) Executor start aborting (this does not indicate an error and you can ignore this message): INVALID_ARGUMENT: You must feed a value for placeholder tensor 'inputs_1' with dtype string and shape [?,2]\n",
      "\t [[{{node inputs_1}}]]\n",
      "WARNING:absl:Found untraced functions such as _update_step_xla while saving (showing 1 of 1). These functions will not be directly callable after loading.\n",
      "2023-06-20 00:25:42.146600: I tensorflow/core/common_runtime/executor.cc:1197] [/device:CPU:0] (DEBUG INFO) Executor start aborting (this does not indicate an error and you can ignore this message): INVALID_ARGUMENT: You must feed a value for placeholder tensor 'serving_default_input_2' with dtype string and shape [?,2]\n",
      "\t [[{{node serving_default_input_2}}]]\n"
     ]
    },
    {
     "name": "stdout",
     "output_type": "stream",
     "text": [
      "INFO:tensorflow:Assets written to: forward_model/assets\n"
     ]
    },
    {
     "name": "stderr",
     "output_type": "stream",
     "text": [
      "INFO:tensorflow:Assets written to: forward_model/assets\n"
     ]
    }
   ],
   "source": [
    "model.save(\"forward_model\")"
   ]
  },
  {
   "cell_type": "code",
   "execution_count": 8,
   "metadata": {},
   "outputs": [
    {
     "data": {
      "image/png": "[encoded data removed]",
      "text/plain": [
       "<Figure size 640x480 with 1 Axes>"
      ]
     },
     "metadata": {},
     "output_type": "display_data"
    }
   ],
   "source": [
    "plt.plot(history.history['loss'], label='Training Loss')\n",
    "plt.plot(history.history['val_loss'], label='Validation Loss')\n",
    "plt.xlabel('Epochs')\n",
    "plt.ylabel('Loss')\n",
    "plt.legend()\n",
    "plt.show()"
   ]
  },
  {
   "cell_type": "code",
   "execution_count": 9,
   "metadata": {},
   "outputs": [
    {
     "ename": "TypeError",
     "evalue": "require_trained.<locals>.decorator() takes 1 positional argument but 2 were given",
     "output_type": "error",
     "traceback": [
      "\u001b[0;31m---------------------------------------------------------------------------\u001b[0m",
      "\u001b[0;31mTypeError\u001b[0m                                 Traceback (most recent call last)",
      "Cell \u001b[0;32mIn[9], line 12\u001b[0m\n\u001b[1;32m      9\u001b[0m output_sample \u001b[38;5;241m=\u001b[39m data_test[[c \u001b[38;5;28;01mfor\u001b[39;00m c \u001b[38;5;129;01min\u001b[39;00m data_test\u001b[38;5;241m.\u001b[39mcolumns \u001b[38;5;28;01mif\u001b[39;00m c \u001b[38;5;129;01mnot\u001b[39;00m \u001b[38;5;129;01min\u001b[39;00m feature_cols]]\u001b[38;5;241m.\u001b[39miloc[[index]]\n\u001b[1;32m     11\u001b[0m \u001b[38;5;66;03m# Make a prediction for the selected sample\u001b[39;00m\n\u001b[0;32m---> 12\u001b[0m prediction \u001b[38;5;241m=\u001b[39m \u001b[43mmodel\u001b[49m\u001b[38;5;241;43m.\u001b[39;49m\u001b[43mpredict\u001b[49m\u001b[43m(\u001b[49m\u001b[43minput_sample\u001b[49m\u001b[43m)\u001b[49m\n\u001b[1;32m     13\u001b[0m output_sample \u001b[38;5;241m=\u001b[39m np\u001b[38;5;241m.\u001b[39msqueeze(output_sample)\n\u001b[1;32m     14\u001b[0m prediction \u001b[38;5;241m=\u001b[39m np\u001b[38;5;241m.\u001b[39msqueeze(prediction)\n",
      "\u001b[0;31mTypeError\u001b[0m: require_trained.<locals>.decorator() takes 1 positional argument but 2 were given"
     ]
    }
   ],
   "source": [
    "import random\n",
    "import numpy as np\n",
    "# Select a random index from the test set\n",
    "index = random.randint(0, len(data_test[feature_cols]) - 1)\n",
    "# index = 2849\n",
    "\n",
    "# Get the corresponding input and output values\n",
    "input_sample = data_test[feature_cols].iloc[[index]]\n",
    "output_sample = data_test[[c for c in data_test.columns if c not in feature_cols]].iloc[[index]]\n",
    "\n",
    "# Make a prediction for the selected sample\n",
    "prediction = model.predict(input_sample)\n",
    "output_sample = np.squeeze(output_sample)\n",
    "prediction = np.squeeze(prediction)\n",
    "fig,ax = plt.subplots()\n",
    "x = np.arange(400,751)\n",
    "ax.plot(x, output_sample, label='Actual')\n",
    "ax.plot(x, prediction, label='Pred')\n",
    "ax.set_ylim(0,1)\n",
    "ax.legend()\n",
    "plt.show()"
   ]
  },
  {
   "cell_type": "code",
   "execution_count": 11,
   "metadata": {},
   "outputs": [
    {
     "name": "stderr",
     "output_type": "stream",
     "text": [
      "2023-06-20 00:26:26.081496: I tensorflow/core/common_runtime/executor.cc:1197] [/device:CPU:0] (DEBUG INFO) Executor start aborting (this does not indicate an error and you can ignore this message): INVALID_ARGUMENT: You must feed a value for placeholder tensor 'input_2' with dtype string and shape [?,2]\n",
      "\t [[{{node input_2}}]]\n",
      "2023-06-20 00:26:26.502525: I tensorflow/core/common_runtime/executor.cc:1197] [/device:CPU:0] (DEBUG INFO) Executor start aborting (this does not indicate an error and you can ignore this message): INVALID_ARGUMENT: You must feed a value for placeholder tensor 'input_2' with dtype string and shape [?,2]\n",
      "\t [[{{node input_2}}]]\n",
      "2023-06-20 00:26:26.696646: I tensorflow/core/common_runtime/executor.cc:1197] [/device:CPU:0] (DEBUG INFO) Executor start aborting (this does not indicate an error and you can ignore this message): INVALID_ARGUMENT: You must feed a value for placeholder tensor 'inputs_1' with dtype string and shape [?,2]\n",
      "\t [[{{node inputs_1}}]]\n",
      "2023-06-20 00:26:26.741063: I tensorflow/core/common_runtime/executor.cc:1197] [/device:CPU:0] (DEBUG INFO) Executor start aborting (this does not indicate an error and you can ignore this message): INVALID_ARGUMENT: You must feed a value for placeholder tensor 'inputs_1' with dtype string and shape [?,2]\n",
      "\t [[{{node inputs_1}}]]\n",
      "2023-06-20 00:26:26.835886: I tensorflow/core/common_runtime/executor.cc:1197] [/device:CPU:0] (DEBUG INFO) Executor start aborting (this does not indicate an error and you can ignore this message): INVALID_ARGUMENT: You must feed a value for placeholder tensor 'input_2' with dtype string and shape [?,2]\n",
      "\t [[{{node input_2}}]]\n",
      "2023-06-20 00:26:26.939161: I tensorflow/core/common_runtime/executor.cc:1197] [/device:CPU:0] (DEBUG INFO) Executor start aborting (this does not indicate an error and you can ignore this message): INVALID_ARGUMENT: You must feed a value for placeholder tensor 'inputs_1' with dtype string and shape [?,2]\n",
      "\t [[{{node inputs_1}}]]\n",
      "2023-06-20 00:26:27.001942: I tensorflow/core/common_runtime/executor.cc:1197] [/device:CPU:0] (DEBUG INFO) Executor start aborting (this does not indicate an error and you can ignore this message): INVALID_ARGUMENT: You must feed a value for placeholder tensor 'inputs_1' with dtype string and shape [?,2]\n",
      "\t [[{{node inputs_1}}]]\n",
      "WARNING:absl:Found untraced functions such as _update_step_xla while saving (showing 1 of 1). These functions will not be directly callable after loading.\n",
      "2023-06-20 00:26:28.307501: I tensorflow/core/common_runtime/executor.cc:1197] [/device:CPU:0] (DEBUG INFO) Executor start aborting (this does not indicate an error and you can ignore this message): INVALID_ARGUMENT: You must feed a value for placeholder tensor 'serving_default_input_2' with dtype string and shape [?,2]\n",
      "\t [[{{node serving_default_input_2}}]]\n"
     ]
    },
    {
     "name": "stdout",
     "output_type": "stream",
     "text": [
      "INFO:tensorflow:Assets written to: forward_model/assets\n"
     ]
    },
    {
     "name": "stderr",
     "output_type": "stream",
     "text": [
      "INFO:tensorflow:Assets written to: forward_model/assets\n"
     ]
    }
   ],
   "source": [
    "model.save(\"forward_model\")"
   ]
  },
  {
   "cell_type": "code",
   "execution_count": 15,
   "metadata": {},
   "outputs": [
    {
     "name": "stderr",
     "output_type": "stream",
     "text": [
      "2023-06-20 00:31:55.342012: I tensorflow/core/common_runtime/executor.cc:1197] [/device:CPU:0] (DEBUG INFO) Executor start aborting (this does not indicate an error and you can ignore this message): INVALID_ARGUMENT: You must feed a value for placeholder tensor 'input_2' with dtype string and shape [?,2]\n",
      "\t [[{{node input_2}}]]\n",
      "2023-06-20 00:31:55.674516: I tensorflow/core/common_runtime/executor.cc:1197] [/device:CPU:0] (DEBUG INFO) Executor start aborting (this does not indicate an error and you can ignore this message): INVALID_ARGUMENT: You must feed a value for placeholder tensor 'input_2' with dtype string and shape [?,2]\n",
      "\t [[{{node input_2}}]]\n",
      "2023-06-20 00:31:55.849921: I tensorflow/core/common_runtime/executor.cc:1197] [/device:CPU:0] (DEBUG INFO) Executor start aborting (this does not indicate an error and you can ignore this message): INVALID_ARGUMENT: You must feed a value for placeholder tensor 'inputs_1' with dtype string and shape [?,2]\n",
      "\t [[{{node inputs_1}}]]\n",
      "2023-06-20 00:31:55.903067: I tensorflow/core/common_runtime/executor.cc:1197] [/device:CPU:0] (DEBUG INFO) Executor start aborting (this does not indicate an error and you can ignore this message): INVALID_ARGUMENT: You must feed a value for placeholder tensor 'inputs_1' with dtype string and shape [?,2]\n",
      "\t [[{{node inputs_1}}]]\n",
      "2023-06-20 00:31:56.082557: I tensorflow/core/common_runtime/executor.cc:1197] [/device:CPU:0] (DEBUG INFO) Executor start aborting (this does not indicate an error and you can ignore this message): INVALID_ARGUMENT: You must feed a value for placeholder tensor 'input_2' with dtype string and shape [?,2]\n",
      "\t [[{{node input_2}}]]\n",
      "2023-06-20 00:31:56.224018: I tensorflow/core/common_runtime/executor.cc:1197] [/device:CPU:0] (DEBUG INFO) Executor start aborting (this does not indicate an error and you can ignore this message): INVALID_ARGUMENT: You must feed a value for placeholder tensor 'inputs_1' with dtype string and shape [?,2]\n",
      "\t [[{{node inputs_1}}]]\n",
      "2023-06-20 00:31:56.273070: I tensorflow/core/common_runtime/executor.cc:1197] [/device:CPU:0] (DEBUG INFO) Executor start aborting (this does not indicate an error and you can ignore this message): INVALID_ARGUMENT: You must feed a value for placeholder tensor 'inputs_1' with dtype string and shape [?,2]\n",
      "\t [[{{node inputs_1}}]]\n",
      "WARNING:absl:Found untraced functions such as _update_step_xla while saving (showing 1 of 1). These functions will not be directly callable after loading.\n",
      "2023-06-20 00:31:57.765425: I tensorflow/core/common_runtime/executor.cc:1197] [/device:CPU:0] (DEBUG INFO) Executor start aborting (this does not indicate an error and you can ignore this message): INVALID_ARGUMENT: You must feed a value for placeholder tensor 'serving_default_input_2' with dtype string and shape [?,2]\n",
      "\t [[{{node serving_default_input_2}}]]\n"
     ]
    },
    {
     "name": "stdout",
     "output_type": "stream",
     "text": [
      "INFO:tensorflow:Assets written to: model.tf/assets\n"
     ]
    },
    {
     "name": "stderr",
     "output_type": "stream",
     "text": [
      "INFO:tensorflow:Assets written to: model.tf/assets\n"
     ]
    }
   ],
   "source": [
    "model.save(\"model.tf\")"
   ]
  }
 ],
 "metadata": {
  "kernelspec": {
   "display_name": "Python 3 (ipykernel)",
   "language": "python",
   "name": "python3"
  },
  "language_info": {
   "codemirror_mode": {
    "name": "ipython",
    "version": 3
   },
   "file_extension": ".py",
   "mimetype": "text/x-python",
   "name": "python",
   "nbconvert_exporter": "python",
   "pygments_lexer": "ipython3",
   "version": "3.10.6"
  }
 },
 "nbformat": 4,
 "nbformat_minor": 2
}
